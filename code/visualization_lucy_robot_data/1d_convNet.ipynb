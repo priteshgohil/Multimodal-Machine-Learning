{
 "cells": [
  {
   "cell_type": "code",
   "execution_count": 12,
   "metadata": {
    "collapsed": true
   },
   "outputs": [],
   "source": [
    "import numpy\n",
    "import torch\n",
    "import torch.nn as nn\n",
    "import torch.nn.functional as F"
   ]
  },
  {
   "cell_type": "markdown",
   "metadata": {},
   "source": [
    "## Desing 1"
   ]
  },
  {
   "cell_type": "code",
   "execution_count": 3,
   "metadata": {
    "collapsed": false
   },
   "outputs": [
    {
     "name": "stdout",
     "output_type": "stream",
     "text": [
      "torch.Size([1, 6, 18])\n",
      "torch.Size([1, 32, 2])\n"
     ]
    }
   ],
   "source": [
    "\n",
    "\n",
    "X = numpy.random.uniform(-10, 10, 70).reshape(1, 7, -1)\n",
    "# Y = np.random.randint(0, 9, 10).reshape(1, 1, -1)\n",
    "\n",
    "class WrenchNet(torch.nn.Module):\n",
    "    def __init__(self):\n",
    "        super(WrenchNet, self).__init__()\n",
    "        self.layer1 = torch.nn.Conv1d(in_channels=6, out_channels=20, kernel_size=3, stride=2)\n",
    "        self.act1 = torch.nn.ReLU()\n",
    "        self.bn1 = nn.BatchNorm1d(20)\n",
    "        self.layer2 = torch.nn.Conv1d(in_channels=20, out_channels=30, kernel_size=3, stride=2)\n",
    "        self.act2 = torch.nn.ReLU()\n",
    "        self.bn2 = nn.BatchNorm1d(30)\n",
    "        self.layer3 = torch.nn.Conv1d(in_channels=30, out_channels=32, kernel_size=2)\n",
    "        \n",
    "    def forward(self, x):\n",
    "        x = self.layer1(x)\n",
    "        x = self.act1(x)\n",
    "        x = self.bn1(x)\n",
    "        x = self.layer2(x)\n",
    "        x = self.act2(x)\n",
    "        x = self.bn2(x)\n",
    "        x = self.layer3(x)\n",
    "#         log_probs = torch.nn.functional.log_softmax(x, dim=1)\n",
    "\n",
    "        return x\n",
    "\n",
    "model = WrenchNet().double()\n",
    "# print(model(torch.tensor(X)).size)\n",
    "X=torch.rand(1,6,18) #Batch x channel x samples\n",
    "print(X.shape)\n",
    "print(model(X.double()).shape)"
   ]
  },
  {
   "cell_type": "markdown",
   "metadata": {},
   "source": [
    "## Desing 2"
   ]
  },
  {
   "cell_type": "code",
   "execution_count": 29,
   "metadata": {
    "collapsed": false
   },
   "outputs": [
    {
     "name": "stdout",
     "output_type": "stream",
     "text": [
      "torch.Size([1, 6, 18])\n",
      "torch.Size([1, 100, 16])\n",
      "torch.Size([1, 100, 14])\n",
      "torch.Size([1, 100, 4])\n",
      "torch.Size([1, 160, 3])\n",
      "torch.Size([1, 160, 2])\n",
      "torch.Size([1, 160, 1])\n",
      "torch.Size([1, 160])\n",
      "tensor([[-0.1359]], grad_fn=<AddmmBackward>)\n"
     ]
    }
   ],
   "source": [
    "# Ref : https://blog.goodaudience.com/introduction-to-1d-convolutional-neural-networks-in-keras-for-time-sequences-3a7ff801a2cf\n",
    "'''\n",
    "Input shape : B x 6 x 18\n",
    "Output shape: B x 16 x 2\n",
    "'''\n",
    "class WrenchNet(nn.Module):\n",
    "    def __init__(self):\n",
    "        super(WrenchNet, self).__init__()\n",
    "        self.layer1 = nn.Conv1d(in_channels=6, out_channels=100, kernel_size=3)\n",
    "        self.relu1 = nn.ReLU()\n",
    "        self.layer2 = nn.Conv1d(in_channels=100, out_channels=100, kernel_size=3)\n",
    "        self.relu2 = nn.ReLU()\n",
    "        self.maxpool = nn.MaxPool1d(3)\n",
    "        self.layer3 = nn.Conv1d(in_channels=100, out_channels=160, kernel_size=2)\n",
    "        self.relu3 = nn.ReLU()\n",
    "        self.layer4 = nn.Conv1d(in_channels=160, out_channels=160, kernel_size=2)\n",
    "        self.relu4 = nn.ReLU()\n",
    "        self.globalpool = nn.AvgPool1d(3)\n",
    "        self.dropout = nn.Dropout()\n",
    "        self.fc1 = nn.Sequential(nn.Linear(160, 32, bias=True), nn.ReLU(inplace=True), nn.Dropout(p = 0.5))\n",
    "        self.fc2 = nn.Linear(32,1)\n",
    "\n",
    "    def forward(self, x):\n",
    "        x = self.layer1(x)\n",
    "#         print(x.shape)\n",
    "        x = self.relu1(x)\n",
    "        x = self.layer2(x)\n",
    "#         print(x.shape)\n",
    "        x = self.relu2(x)\n",
    "        x = self.maxpool(x)\n",
    "#         print(x.shape)        \n",
    "        x = self.layer3(x)\n",
    "#         print(x.shape)\n",
    "        x = self.relu3(x)\n",
    "        x = self.layer4(x)\n",
    "#         print(x.shape)\n",
    "        x = self.relu4(x)\n",
    "        x = self.globalpool(x)\n",
    "#         print(x.shape)\n",
    "        \n",
    "        x = x.view(x.size(0), -1)\n",
    "#         print(x.shape)\n",
    "        x = self.fc1(x)\n",
    "        x = self.fc2(x)\n",
    "        return x\n",
    "\n",
    "model = WrenchNet()\n",
    "# print(model(torch.tensor(X)).size)\n",
    "X=torch.rand(1,6,18) #Batch x channel x samples\n",
    "print(X.shape)\n",
    "print(model(X.float()))"
   ]
  },
  {
   "cell_type": "markdown",
   "metadata": {},
   "source": [
    "## Desing 3"
   ]
  },
  {
   "cell_type": "code",
   "execution_count": 52,
   "metadata": {
    "collapsed": false
   },
   "outputs": [
    {
     "name": "stdout",
     "output_type": "stream",
     "text": [
      "torch.Size([1, 6, 18])\n",
      "tensor([[-0.0403]], grad_fn=<AddmmBackward>)\n"
     ]
    }
   ],
   "source": [
    "'''\n",
    "Input shape : B x 6 x 18\n",
    "Output shape: B x 16 x 2\n",
    "'''\n",
    "class WrenchNet(nn.Module):\n",
    "    def __init__(self):\n",
    "        super(WrenchNet, self).__init__()\n",
    "        self.fc1 = nn.Sequential(nn.Linear(108, 256, bias=True), nn.ReLU(inplace=True), nn.Dropout(p = 0.5))\n",
    "        self.fc2 = nn.Sequential(nn.Linear(256, 1024, bias=True), nn.ReLU(inplace=True), nn.Dropout(p = 0.5))\n",
    "        self.fc3 = nn.Sequential(nn.Linear(1024, 512, bias=True), nn.ReLU(inplace=True), nn.Dropout(p = 0.5))\n",
    "        self.fc4 = nn.Sequential(nn.Linear(512, 128, bias=True), nn.ReLU(inplace=True), nn.Dropout(p = 0.5))\n",
    "        self.fc5 = nn.Linear(128,1)\n",
    "\n",
    "    def forward(self, x):\n",
    "        x = x.view(x.size(0), -1)\n",
    "        x = self.fc1(x)\n",
    "        x = self.fc2(x)\n",
    "        x = self.fc3(x)\n",
    "        x = self.fc4(x)\n",
    "        x = self.fc5(x)\n",
    "        return x\n",
    "\n",
    "model = WrenchNet()\n",
    "# print(model(torch.tensor(X)).size)\n",
    "X=torch.rand(1,6,18) #Batch x channel x samples\n",
    "print(X.shape)\n",
    "print(model(X.float()))"
   ]
  },
  {
   "cell_type": "markdown",
   "metadata": {},
   "source": [
    "# Sample to create NN model"
   ]
  },
  {
   "cell_type": "code",
   "execution_count": 15,
   "metadata": {
    "collapsed": true
   },
   "outputs": [],
   "source": [
    "class DQN_Conv1d(nn.Module):\n",
    "    def __init__(self, input_shape, n_actions):\n",
    "        super(DQN_Conv1d, self).__init__()\n",
    "        self.conv = nn.Sequential(\n",
    "            nn.Conv1d(input_shape[0], 32, kernel_size=4, stride=4),\n",
    "            nn.ReLU(),\n",
    "            nn.Conv1d(32, 64, kernel_size=4, stride=2),\n",
    "            nn.ReLU(),\n",
    "            nn.Conv1d(64, 64, kernel_size=3, stride=1),\n",
    "            nn.ReLU(),\n",
    "            nn.Linear(64, 512),\n",
    "            nn.ReLU(),\n",
    "            nn.Linear(512, n_actions)\n",
    "        )\n",
    "\n",
    "    def forward(self, x):\n",
    "        return self.conv(x)"
   ]
  },
  {
   "cell_type": "code",
   "execution_count": null,
   "metadata": {
    "collapsed": true
   },
   "outputs": [],
   "source": []
  }
 ],
 "metadata": {
  "kernelspec": {
   "display_name": "Python 3",
   "language": "python",
   "name": "python3"
  },
  "language_info": {
   "codemirror_mode": {
    "name": "ipython",
    "version": 3
   },
   "file_extension": ".py",
   "mimetype": "text/x-python",
   "name": "python",
   "nbconvert_exporter": "python",
   "pygments_lexer": "ipython3",
   "version": "3.6.8"
  }
 },
 "nbformat": 4,
 "nbformat_minor": 2
}
