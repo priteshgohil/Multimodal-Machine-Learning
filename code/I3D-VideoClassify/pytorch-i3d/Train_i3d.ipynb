{
 "cells": [
  {
   "cell_type": "code",
   "execution_count": 2,
   "metadata": {},
   "outputs": [],
   "source": [
    "import os\n",
    "os.environ[\"CUDA_DEVICE_ORDER\"]=\"PCI_BUS_ID\"   \n",
    "#os.environ[\"CUDA_VISIBLE_DEVICES\"]='0,1,2,3'\n",
    "import sys\n",
    "import argparse\n",
    "\n",
    "# parser = argparse.ArgumentParser()\n",
    "# parser.add_argument('-mode', type=str, help='rgb or flow')\n",
    "# parser.add_argument('-save_model', type=str)\n",
    "# parser.add_argument('-root', type=str)\n",
    "\n",
    "# args = parser.parse_args()\n",
    "\n",
    "\n",
    "import torch\n",
    "import torch.nn as nn\n",
    "import torch.nn.functional as F\n",
    "import torch.optim as optim\n",
    "from torch.optim import lr_scheduler\n",
    "from torch.autograd import Variable\n",
    "\n",
    "import torchvision\n",
    "from torchvision import datasets, transforms\n",
    "import videotransforms\n",
    "\n",
    "\n",
    "import numpy as np\n",
    "\n",
    "from pytorch_i3d import InceptionI3d\n",
    "\n",
    "# from charades_dataset import Charades as Dataset\n",
    "from visual_tactile_dataset import VisualTactile as Dataset\n",
    "import cv2\n",
    "import matplotlib.pyplot as plt"
   ]
  },
  {
   "cell_type": "code",
   "execution_count": null,
   "metadata": {},
   "outputs": [],
   "source": [
    "path = \"/media/pritesh/Entertainment/Visual-Tactile_Dataset/dataset/\"\n",
    "i3d = InceptionI3d(400, in_channels=2)\n",
    "i3d.load_state_dict(torch.load('models/flow_imagenet.pt'))\n",
    "i3d.train(True)\n",
    "\n",
    "train_transforms = transforms.Compose([videotransforms.RandomCrop(224),\n",
    "                                       videotransforms.RandomHorizontalFlip(),])\n",
    "# train_transforms = transforms.Compose([videotransforms.CenterCrop(480),\n",
    "#                                        videotransforms.RandomHorizontalFlip(),])\n",
    "dataset = Dataset('train.txt',path, transform=train_transforms)\n",
    "# dataset = Dataset(path)\n",
    "dataloader = torch.utils.data.DataLoader(dataset, batch_size=1, shuffle=True, num_workers=0, pin_memory=False)\n",
    "# for data in dataset:\n",
    "c = 0\n",
    "for data in dataloader:\n",
    "    print(\"ok getting single data\")\n",
    "    f_vid, l_vid, tactile, pos, label = data\n",
    "    c += 1\n",
    "    if (c%2 == 0):\n",
    "        break\n",
    "\n",
    "# image,tactile,control_label,front_video,left_video,pos,label = dataset[0]"
   ]
  },
  {
   "cell_type": "code",
   "execution_count": null,
   "metadata": {},
   "outputs": [],
   "source": [
    "print(f_vid.shape)\n",
    "plt.imshow(f_vid[0][0][0])\n",
    "# torch.from_numpy(left_video.transpose([3,0,1,2])).size()\n",
    "# np.array(front_video[0]).shape"
   ]
  },
  {
   "cell_type": "code",
   "execution_count": null,
   "metadata": {},
   "outputs": [],
   "source": [
    "path = \"/media/pritesh/Entertainment/Visual-Tactile_Dataset/dataset/Cheez/50_432/top/0/front_0.jpg\"\n",
    "image = cv2.imread(path)\n",
    "# cv2.imshow('im', image)\n",
    "# image = cv2.cvtColor(image,cv2.COLOR_BGR2RGB)\n",
    "# cv2.imshow('im',image)\n",
    "# cv2.waitKey(1000)\n",
    "np.asarray(image, dtype=np.float32)\n"
   ]
  },
  {
   "cell_type": "code",
   "execution_count": null,
   "metadata": {},
   "outputs": [],
   "source": [
    "train_transforms = transforms.Compose([videotransforms.RandomCrop(224),\n",
    "                                       videotransforms.RandomHorizontalFlip(),])"
   ]
  },
  {
   "cell_type": "code",
   "execution_count": null,
   "metadata": {},
   "outputs": [],
   "source": [
    "def run(init_lr=0.1, max_steps=64e3, mode='rgb', root=\"/media/pritesh/Entertainment/Visual-Tactile_Dataset/dataset/\"\n",
    "        , train_split=None, batch_size=1, save_model=''):\n",
    "#     # setup dataset\n",
    "#     train_transforms = transforms.Compose([videotransforms.RandomCrop(224),\n",
    "#                                            videotransforms.RandomHorizontalFlip(),\n",
    "#     ])\n",
    "#     test_transforms = transforms.Compose([videotransforms.CenterCrop(224)])\n",
    "\n",
    "    dataset = Dataset(root)\n",
    "    dataset = Dataset(root,transform=videotransforms.CenterCrop(224))\n",
    "#     dataset = Dataset(train_split, 'training', root, mode, train_transforms)\n",
    "#     dataloader = torch.utils.data.DataLoader(dataset, batch_size=batch_size, shuffle=True, num_workers=36, pin_memory=True)\n",
    "\n",
    "#     val_dataset = Dataset(train_split, 'testing', root, mode, test_transforms)\n",
    "#     val_dataloader = torch.utils.data.DataLoader(val_dataset, batch_size=batch_size, shuffle=True, num_workers=36, pin_memory=True)    \n",
    "\n",
    "#     dataloaders = {'train': dataloader, 'val': val_dataloader}\n",
    "#     datasets = {'train': dataset, 'val': val_dataset}\n",
    "\n",
    "    \n",
    "    # setup the model\n",
    "    if mode == 'flow':\n",
    "        i3d = InceptionI3d(400, in_channels=2)\n",
    "        i3d.load_state_dict(torch.load('models/flow_imagenet.pt'))\n",
    "    else:\n",
    "        i3d = InceptionI3d(400, in_channels=3)\n",
    "        i3d.load_state_dict(torch.load('models/rgb_imagenet.pt'))\n",
    "    i3d.replace_logits(157)\n",
    "#     #i3d.load_state_dict(torch.load('/ssd/models/000920.pt'))\n",
    "#     i3d.cuda()\n",
    "#     i3d = nn.DataParallel(i3d)\n",
    "\n",
    "    lr = init_lr\n",
    "    optimizer = optim.SGD(i3d.parameters(), lr=lr, momentum=0.9, weight_decay=0.0000001)\n",
    "    lr_sched = optim.lr_scheduler.MultiStepLR(optimizer, [300, 1000])\n",
    "\n",
    "    num_steps_per_update = 4 # accum gradient\n",
    "    steps = 0\n",
    "    # train it\n",
    "    while steps < max_steps:#for epoch in range(num_epochs):\n",
    "        print ('Step {}/{}'.format(steps, max_steps))\n",
    "        print ('-' * 10)\n",
    "\n",
    "#         # Each epoch has a training and validation phase\n",
    "#         for phase in ['train', 'val']:\n",
    "#             if phase == 'train':\n",
    "#                 i3d.train(True)\n",
    "#             else:\n",
    "#                 i3d.train(False)  # Set model to evaluate mode\n",
    "        i3d.train(True)\n",
    "        tot_loss = 0.0\n",
    "        tot_loc_loss = 0.0\n",
    "        tot_cls_loss = 0.0\n",
    "        num_iter = 0\n",
    "        optimizer.zero_grad()\n",
    "\n",
    "        # Iterate over data.\n",
    "#         for data in dataloaders[phase]:\n",
    "        for data in dataset:\n",
    "            num_iter += 1\n",
    "            # get the inputs\n",
    "#             inputs, labels = data\n",
    "            image,tactile,control_label,front_video,left_video,pos,label = data\n",
    "\n",
    "#             # wrap them in Variable\n",
    "#             inputs = Variable(inputs.cuda())\n",
    "#             t = inputs.size(2)\n",
    "#             labels = Variable(labels.cuda())\n",
    "            front_video = front_video.unsqueeze(0)\n",
    "            inputs = Variable(front_video)\n",
    "#             inputs = torch.FloatTensor(front_video)\n",
    "#             inputs = Variable(inputs)\n",
    "            print(type(inputs))\n",
    "            print(inputs.size())\n",
    "#             inputs = front_video\n",
    "            t = len(inputs)\n",
    "            print(inputs.size())\n",
    "            \n",
    "            print(\"calculationg per_frame_logits\")\n",
    "            per_frame_logits = i3d(inputs)\n",
    "            # upsample to input size\n",
    "            print(\"upsampling per_frame_logits\", per_frame_logits)\n",
    "            per_frame_logits = F.upsample(per_frame_logits, t, mode='linear')\n",
    "            F.interpolate(align_corners=False)\n",
    "\n",
    "            print(\"computing localization loss\")\n",
    "            # compute localization loss\n",
    "            loc_loss = F.binary_cross_entropy_with_logits(per_frame_logits, labels)\n",
    "            tot_loc_loss += loc_loss.data[0]\n",
    "\n",
    "            # compute classification loss (with max-pooling along time B x C x T)\n",
    "            cls_loss = F.binary_cross_entropy_with_logits(torch.max(per_frame_logits, dim=2)[0], torch.max(labels, dim=2)[0])\n",
    "            tot_cls_loss += cls_loss.data[0]\n",
    "            loss = (0.5*loc_loss + 0.5*cls_loss)/num_steps_per_update\n",
    "            tot_loss += loss.data[0]\n",
    "            loss.backward()\n",
    "\n",
    "            print ('{} Loc Loss: {:.4f} Cls Loss: {:.4f} Tot Loss: {:.4f}'.format(phase, tot_loc_loss/(10*num_steps_per_update), tot_cls_loss/(10*num_steps_per_update), tot_loss/10))\n",
    "            if num_iter == num_steps_per_update and phase == 'train':\n",
    "                steps += 1\n",
    "                num_iter = 0\n",
    "                optimizer.step()\n",
    "                optimizer.zero_grad()\n",
    "                lr_sched.step()\n",
    "                if steps % 10 == 0:\n",
    "                    print ('{} Loc Loss: {:.4f} Cls Loss: {:.4f} Tot Loss: {:.4f}'.format(phase, tot_loc_loss/(10*num_steps_per_update), tot_cls_loss/(10*num_steps_per_update), tot_loss/10))\n",
    "                    # save model\n",
    "                    torch.save(i3d.module.state_dict(), save_model+str(steps).zfill(6)+'.pt')\n",
    "                    tot_loss = tot_loc_loss = tot_cls_loss = 0.\n",
    "        if phase == 'val':\n",
    "            print ('{} Loc Loss: {:.4f} Cls Loss: {:.4f} Tot Loss: {:.4f}'.format(phase, tot_loc_loss/num_iter, tot_cls_loss/num_iter, (tot_loss*num_steps_per_update)/num_iter) )\n",
    "    \n",
    "\n",
    "\n",
    "if __name__ == '__main__':\n",
    "    # need to add argparse\n",
    "#     run(mode=args.mode, root=args.root, save_model=args.save_model)\n",
    "    run()\n"
   ]
  },
  {
   "cell_type": "markdown",
   "metadata": {},
   "source": [
    "# Architecture after modified dataloader."
   ]
  },
  {
   "cell_type": "code",
   "execution_count": null,
   "metadata": {},
   "outputs": [],
   "source": [
    "# def run(init_lr=0.1, max_steps=64e3, mode='rgb', root='/ssd/Charades_v1_rgb', train_split='charades/charades.json', batch_size=8*5, save_model=''):\n",
    "def run(init_lr=0.001, max_steps=10, mode='rgb', root='/media/pritesh/Entertainment/Visual-Tactile_Dataset/dataset/',\\\n",
    "        train_split='train.txt', test_split='test.txt', batch_size=1, save_model=''):\n",
    "    # setup dataset\n",
    "    train_transforms = transforms.Compose([videotransforms.RandomCrop(224),\n",
    "                                           videotransforms.RandomHorizontalFlip(),])\n",
    "    test_transforms = transforms.Compose([videotransforms.CenterCrop(224)])\n",
    "\n",
    "    dataset = Dataset(train_split, root, mode, train_transforms)\n",
    "    dataloader = torch.utils.data.DataLoader(dataset, batch_size=batch_size, shuffle=True, num_workers=0, pin_memory=True)\n",
    "\n",
    "    val_dataset = Dataset(test_split, root, mode, test_transforms)\n",
    "    val_dataloader = torch.utils.data.DataLoader(val_dataset, batch_size=batch_size, shuffle=True, num_workers=0, pin_memory=True)    \n",
    "\n",
    "    dataloaders = {'train': dataloader, 'val': val_dataloader}\n",
    "    datasets = {'train': dataset, 'val': val_dataset}\n",
    "\n",
    "    \n",
    "    # setup the model\n",
    "    if mode == 'flow':\n",
    "        i3d = InceptionI3d(400, in_channels=2)\n",
    "        i3d.load_state_dict(torch.load('models/flow_imagenet.pt'))\n",
    "    else:\n",
    "        i3d = InceptionI3d(400, in_channels=3)\n",
    "        i3d.load_state_dict(torch.load('models/rgb_imagenet.pt'))\n",
    "    i3d.replace_logits(157)\n",
    "#     #i3d.load_state_dict(torch.load('/ssd/models/000920.pt'))\n",
    "#     i3d.cuda()\n",
    "#     i3d = nn.DataParallel(i3d)\n",
    "\n",
    "    lr = init_lr\n",
    "    optimizer = optim.SGD(i3d.parameters(), lr=lr, momentum=0.9, weight_decay=0.0000001)\n",
    "#     lr_sched = optim.lr_scheduler.MultiStepLR(optimizer, [300, 1000])\n",
    "    lr_sched = optim.lr_scheduler.MultiStepLR(optimizer, [4, 7])\n",
    "\n",
    "\n",
    "    num_steps_per_update = 4 # accum gradient\n",
    "    steps = 0\n",
    "    # train it\n",
    "    while steps < max_steps:#for epoch in range(num_epochs):\n",
    "        print ('Step {}/{}'.format(steps, max_steps))\n",
    "        print ('-' * 10)\n",
    "\n",
    "        # Each epoch has a training and validation phase\n",
    "        for phase in ['train', 'val']:\n",
    "            if phase == 'train':\n",
    "                i3d.train(True)\n",
    "            else:\n",
    "                i3d.train(False)  # Set model to evaluate mode\n",
    "                \n",
    "            tot_loss = 0.0\n",
    "            tot_loc_loss = 0.0\n",
    "            tot_cls_loss = 0.0\n",
    "            num_iter = 0\n",
    "            optimizer.zero_grad()\n",
    "            \n",
    "            # Iterate over data.\n",
    "            for data in dataloaders[phase]:\n",
    "                num_iter += 1\n",
    "                # get the inputs\n",
    "                f_vid, l_vid, tactile, pos, labels = data\n",
    "\n",
    "                # wrap them in Variable\n",
    "                inputs = Variable(f_vid)\n",
    "                t = inputs.size(2)\n",
    "                labels = Variable(labels)\n",
    "#                 inputs = Variable(inputs.cuda())\n",
    "#                 t = inputs.size(2)\n",
    "#                 labels = Variable(labels.cuda())\n",
    "                print(\"go to i3d\")\n",
    "                per_frame_logits = i3d(inputs.float())\n",
    "                # upsample to input size\n",
    "                per_frame_logits = F.upsample(per_frame_logits, t, mode='linear')\n",
    "\n",
    "                # compute localization loss\n",
    "                loc_loss = F.binary_cross_entropy_with_logits(per_frame_logits, labels)\n",
    "                tot_loc_loss += loc_loss.data[0]\n",
    "\n",
    "                # compute classification loss (with max-pooling along time B x C x T)\n",
    "                cls_loss = F.binary_cross_entropy_with_logits(torch.max(per_frame_logits, dim=2)[0], torch.max(labels, dim=2)[0])\n",
    "                tot_cls_loss += cls_loss.data[0]\n",
    "\n",
    "                loss = (0.5*loc_loss + 0.5*cls_loss)/num_steps_per_update\n",
    "                tot_loss += loss.data[0]\n",
    "                loss.backward()\n",
    "\n",
    "                if num_iter == num_steps_per_update and phase == 'train':\n",
    "                    steps += 1\n",
    "                    num_iter = 0\n",
    "                    optimizer.step()\n",
    "                    optimizer.zero_grad()\n",
    "                    lr_sched.step()\n",
    "                    if steps % 10 == 0:\n",
    "                        print ('{} Loc Loss: {:.4f} Cls Loss: {:.4f} Tot Loss: {:.4f}'.format(phase, \\\n",
    "                            tot_loc_loss/(10*num_steps_per_update), tot_cls_loss/(10*num_steps_per_update), tot_loss/10))\n",
    "                        # save model\n",
    "                        torch.save(i3d.module.state_dict(), save_model+str(steps).zfill(6)+'.pt')\n",
    "                        tot_loss = tot_loc_loss = tot_cls_loss = 0.\n",
    "            if phase == 'val':\n",
    "                print ('{} Loc Loss: {:.4f} Cls Loss: {:.4f} Tot Loss: {:.4f}'.format(phase, tot_loc_loss/num_iter, tot_cls_loss/num_iter, (tot_loss*num_steps_per_update)/num_iter) )\n",
    "    \n",
    "\n",
    "\n",
    "if __name__ == '__main__':\n",
    "    # need to add argparse\n",
    "#     run(mode=args.mode, root=args.root, save_model=args.save_model)\n",
    "    run(save_model=\"test.pt\")\n"
   ]
  },
  {
   "cell_type": "markdown",
   "metadata": {},
   "source": [
    "# References\n",
    "* https://discuss.pytorch.org/t/runtimeerror-expected-4-dimensional-input-for-4-dimensional-weight-6-3-5-5-but-got-3-dimensional-input-of-size-3-256-256-instead/37189/4\n",
    "* https://medium.com/@zhang_yang/how-is-pytorchs-binary-cross-entropy-with-logits-function-related-to-sigmoid-and-d3bd8fb080e7"
   ]
  },
  {
   "cell_type": "code",
   "execution_count": 50,
   "metadata": {},
   "outputs": [
    {
     "name": "stdout",
     "output_type": "stream",
     "text": [
      "torch.Size([5, 157, 64])\n",
      "torch.Size([5])\n"
     ]
    }
   ],
   "source": [
    "batch_size, n_classes = 5, 157\n",
    "x = torch.randn(batch_size, n_classes,64)\n",
    "y = torch.randn(5)\n",
    "\n",
    "print(x.shape)\n",
    "print(y.shape)"
   ]
  },
  {
   "cell_type": "code",
   "execution_count": 43,
   "metadata": {},
   "outputs": [
    {
     "ename": "RuntimeError",
     "evalue": "Expected object of scalar type Long but got scalar type Float for argument #2 'target'",
     "output_type": "error",
     "traceback": [
      "\u001b[0;31m---------------------------------------------------------------------------\u001b[0m",
      "\u001b[0;31mRuntimeError\u001b[0m                              Traceback (most recent call last)",
      "\u001b[0;32m<ipython-input-43-883777446bb1>\u001b[0m in \u001b[0;36m<module>\u001b[0;34m()\u001b[0m\n\u001b[1;32m      1\u001b[0m \u001b[0mcriterion\u001b[0m \u001b[0;34m=\u001b[0m \u001b[0mnn\u001b[0m\u001b[0;34m.\u001b[0m\u001b[0mCrossEntropyLoss\u001b[0m\u001b[0;34m(\u001b[0m\u001b[0;34m)\u001b[0m\u001b[0;34m\u001b[0m\u001b[0;34m\u001b[0m\u001b[0m\n\u001b[0;32m----> 2\u001b[0;31m \u001b[0mcriterion\u001b[0m\u001b[0;34m(\u001b[0m\u001b[0mtorch\u001b[0m\u001b[0;34m.\u001b[0m\u001b[0mmax\u001b[0m\u001b[0;34m(\u001b[0m\u001b[0mx\u001b[0m\u001b[0;34m,\u001b[0m \u001b[0mdim\u001b[0m\u001b[0;34m=\u001b[0m\u001b[0;36m2\u001b[0m\u001b[0;34m)\u001b[0m\u001b[0;34m[\u001b[0m\u001b[0;36m0\u001b[0m\u001b[0;34m]\u001b[0m\u001b[0;34m,\u001b[0m\u001b[0my\u001b[0m\u001b[0;34m)\u001b[0m\u001b[0;34m\u001b[0m\u001b[0;34m\u001b[0m\u001b[0m\n\u001b[0m",
      "\u001b[0;32m/home/pritesh/anaconda3/lib/python3.6/site-packages/torch/nn/modules/module.py\u001b[0m in \u001b[0;36m__call__\u001b[0;34m(self, *input, **kwargs)\u001b[0m\n\u001b[1;32m    491\u001b[0m             \u001b[0mresult\u001b[0m \u001b[0;34m=\u001b[0m \u001b[0mself\u001b[0m\u001b[0;34m.\u001b[0m\u001b[0m_slow_forward\u001b[0m\u001b[0;34m(\u001b[0m\u001b[0;34m*\u001b[0m\u001b[0minput\u001b[0m\u001b[0;34m,\u001b[0m \u001b[0;34m**\u001b[0m\u001b[0mkwargs\u001b[0m\u001b[0;34m)\u001b[0m\u001b[0;34m\u001b[0m\u001b[0;34m\u001b[0m\u001b[0m\n\u001b[1;32m    492\u001b[0m         \u001b[0;32melse\u001b[0m\u001b[0;34m:\u001b[0m\u001b[0;34m\u001b[0m\u001b[0;34m\u001b[0m\u001b[0m\n\u001b[0;32m--> 493\u001b[0;31m             \u001b[0mresult\u001b[0m \u001b[0;34m=\u001b[0m \u001b[0mself\u001b[0m\u001b[0;34m.\u001b[0m\u001b[0mforward\u001b[0m\u001b[0;34m(\u001b[0m\u001b[0;34m*\u001b[0m\u001b[0minput\u001b[0m\u001b[0;34m,\u001b[0m \u001b[0;34m**\u001b[0m\u001b[0mkwargs\u001b[0m\u001b[0;34m)\u001b[0m\u001b[0;34m\u001b[0m\u001b[0;34m\u001b[0m\u001b[0m\n\u001b[0m\u001b[1;32m    494\u001b[0m         \u001b[0;32mfor\u001b[0m \u001b[0mhook\u001b[0m \u001b[0;32min\u001b[0m \u001b[0mself\u001b[0m\u001b[0;34m.\u001b[0m\u001b[0m_forward_hooks\u001b[0m\u001b[0;34m.\u001b[0m\u001b[0mvalues\u001b[0m\u001b[0;34m(\u001b[0m\u001b[0;34m)\u001b[0m\u001b[0;34m:\u001b[0m\u001b[0;34m\u001b[0m\u001b[0;34m\u001b[0m\u001b[0m\n\u001b[1;32m    495\u001b[0m             \u001b[0mhook_result\u001b[0m \u001b[0;34m=\u001b[0m \u001b[0mhook\u001b[0m\u001b[0;34m(\u001b[0m\u001b[0mself\u001b[0m\u001b[0;34m,\u001b[0m \u001b[0minput\u001b[0m\u001b[0;34m,\u001b[0m \u001b[0mresult\u001b[0m\u001b[0;34m)\u001b[0m\u001b[0;34m\u001b[0m\u001b[0;34m\u001b[0m\u001b[0m\n",
      "\u001b[0;32m/home/pritesh/anaconda3/lib/python3.6/site-packages/torch/nn/modules/loss.py\u001b[0m in \u001b[0;36mforward\u001b[0;34m(self, input, target)\u001b[0m\n\u001b[1;32m    940\u001b[0m     \u001b[0;32mdef\u001b[0m \u001b[0mforward\u001b[0m\u001b[0;34m(\u001b[0m\u001b[0mself\u001b[0m\u001b[0;34m,\u001b[0m \u001b[0minput\u001b[0m\u001b[0;34m,\u001b[0m \u001b[0mtarget\u001b[0m\u001b[0;34m)\u001b[0m\u001b[0;34m:\u001b[0m\u001b[0;34m\u001b[0m\u001b[0;34m\u001b[0m\u001b[0m\n\u001b[1;32m    941\u001b[0m         return F.cross_entropy(input, target, weight=self.weight,\n\u001b[0;32m--> 942\u001b[0;31m                                ignore_index=self.ignore_index, reduction=self.reduction)\n\u001b[0m\u001b[1;32m    943\u001b[0m \u001b[0;34m\u001b[0m\u001b[0m\n\u001b[1;32m    944\u001b[0m \u001b[0;34m\u001b[0m\u001b[0m\n",
      "\u001b[0;32m/home/pritesh/anaconda3/lib/python3.6/site-packages/torch/nn/functional.py\u001b[0m in \u001b[0;36mcross_entropy\u001b[0;34m(input, target, weight, size_average, ignore_index, reduce, reduction)\u001b[0m\n\u001b[1;32m   2054\u001b[0m     \u001b[0;32mif\u001b[0m \u001b[0msize_average\u001b[0m \u001b[0;32mis\u001b[0m \u001b[0;32mnot\u001b[0m \u001b[0;32mNone\u001b[0m \u001b[0;32mor\u001b[0m \u001b[0mreduce\u001b[0m \u001b[0;32mis\u001b[0m \u001b[0;32mnot\u001b[0m \u001b[0;32mNone\u001b[0m\u001b[0;34m:\u001b[0m\u001b[0;34m\u001b[0m\u001b[0;34m\u001b[0m\u001b[0m\n\u001b[1;32m   2055\u001b[0m         \u001b[0mreduction\u001b[0m \u001b[0;34m=\u001b[0m \u001b[0m_Reduction\u001b[0m\u001b[0;34m.\u001b[0m\u001b[0mlegacy_get_string\u001b[0m\u001b[0;34m(\u001b[0m\u001b[0msize_average\u001b[0m\u001b[0;34m,\u001b[0m \u001b[0mreduce\u001b[0m\u001b[0;34m)\u001b[0m\u001b[0;34m\u001b[0m\u001b[0;34m\u001b[0m\u001b[0m\n\u001b[0;32m-> 2056\u001b[0;31m     \u001b[0;32mreturn\u001b[0m \u001b[0mnll_loss\u001b[0m\u001b[0;34m(\u001b[0m\u001b[0mlog_softmax\u001b[0m\u001b[0;34m(\u001b[0m\u001b[0minput\u001b[0m\u001b[0;34m,\u001b[0m \u001b[0;36m1\u001b[0m\u001b[0;34m)\u001b[0m\u001b[0;34m,\u001b[0m \u001b[0mtarget\u001b[0m\u001b[0;34m,\u001b[0m \u001b[0mweight\u001b[0m\u001b[0;34m,\u001b[0m \u001b[0;32mNone\u001b[0m\u001b[0;34m,\u001b[0m \u001b[0mignore_index\u001b[0m\u001b[0;34m,\u001b[0m \u001b[0;32mNone\u001b[0m\u001b[0;34m,\u001b[0m \u001b[0mreduction\u001b[0m\u001b[0;34m)\u001b[0m\u001b[0;34m\u001b[0m\u001b[0;34m\u001b[0m\u001b[0m\n\u001b[0m\u001b[1;32m   2057\u001b[0m \u001b[0;34m\u001b[0m\u001b[0m\n\u001b[1;32m   2058\u001b[0m \u001b[0;34m\u001b[0m\u001b[0m\n",
      "\u001b[0;32m/home/pritesh/anaconda3/lib/python3.6/site-packages/torch/nn/functional.py\u001b[0m in \u001b[0;36mnll_loss\u001b[0;34m(input, target, weight, size_average, ignore_index, reduce, reduction)\u001b[0m\n\u001b[1;32m   1869\u001b[0m                          .format(input.size(0), target.size(0)))\n\u001b[1;32m   1870\u001b[0m     \u001b[0;32mif\u001b[0m \u001b[0mdim\u001b[0m \u001b[0;34m==\u001b[0m \u001b[0;36m2\u001b[0m\u001b[0;34m:\u001b[0m\u001b[0;34m\u001b[0m\u001b[0;34m\u001b[0m\u001b[0m\n\u001b[0;32m-> 1871\u001b[0;31m         \u001b[0mret\u001b[0m \u001b[0;34m=\u001b[0m \u001b[0mtorch\u001b[0m\u001b[0;34m.\u001b[0m\u001b[0m_C\u001b[0m\u001b[0;34m.\u001b[0m\u001b[0m_nn\u001b[0m\u001b[0;34m.\u001b[0m\u001b[0mnll_loss\u001b[0m\u001b[0;34m(\u001b[0m\u001b[0minput\u001b[0m\u001b[0;34m,\u001b[0m \u001b[0mtarget\u001b[0m\u001b[0;34m,\u001b[0m \u001b[0mweight\u001b[0m\u001b[0;34m,\u001b[0m \u001b[0m_Reduction\u001b[0m\u001b[0;34m.\u001b[0m\u001b[0mget_enum\u001b[0m\u001b[0;34m(\u001b[0m\u001b[0mreduction\u001b[0m\u001b[0;34m)\u001b[0m\u001b[0;34m,\u001b[0m \u001b[0mignore_index\u001b[0m\u001b[0;34m)\u001b[0m\u001b[0;34m\u001b[0m\u001b[0;34m\u001b[0m\u001b[0m\n\u001b[0m\u001b[1;32m   1872\u001b[0m     \u001b[0;32melif\u001b[0m \u001b[0mdim\u001b[0m \u001b[0;34m==\u001b[0m \u001b[0;36m4\u001b[0m\u001b[0;34m:\u001b[0m\u001b[0;34m\u001b[0m\u001b[0;34m\u001b[0m\u001b[0m\n\u001b[1;32m   1873\u001b[0m         \u001b[0mret\u001b[0m \u001b[0;34m=\u001b[0m \u001b[0mtorch\u001b[0m\u001b[0;34m.\u001b[0m\u001b[0m_C\u001b[0m\u001b[0;34m.\u001b[0m\u001b[0m_nn\u001b[0m\u001b[0;34m.\u001b[0m\u001b[0mnll_loss2d\u001b[0m\u001b[0;34m(\u001b[0m\u001b[0minput\u001b[0m\u001b[0;34m,\u001b[0m \u001b[0mtarget\u001b[0m\u001b[0;34m,\u001b[0m \u001b[0mweight\u001b[0m\u001b[0;34m,\u001b[0m \u001b[0m_Reduction\u001b[0m\u001b[0;34m.\u001b[0m\u001b[0mget_enum\u001b[0m\u001b[0;34m(\u001b[0m\u001b[0mreduction\u001b[0m\u001b[0;34m)\u001b[0m\u001b[0;34m,\u001b[0m \u001b[0mignore_index\u001b[0m\u001b[0;34m)\u001b[0m\u001b[0;34m\u001b[0m\u001b[0;34m\u001b[0m\u001b[0m\n",
      "\u001b[0;31mRuntimeError\u001b[0m: Expected object of scalar type Long but got scalar type Float for argument #2 'target'"
     ]
    }
   ],
   "source": [
    "criterion = nn.CrossEntropyLoss()\n",
    "criterion(torch.max(x, dim=2)[0],y)"
   ]
  },
  {
   "cell_type": "code",
   "execution_count": 10,
   "metadata": {},
   "outputs": [],
   "source": [
    "batch_size = 5\n",
    "nb_classes = 10\n",
    "model = nn.Linear(20, nb_classes)\n",
    "\n",
    "x = torch.randn(batch_size, 20)\n",
    "target = torch.empty(batch_size, dtype=torch.long).random_(nb_classes)\n",
    "\n",
    "criterion = nn.CrossEntropyLoss()\n",
    "\n",
    "output = model(x)\n",
    "loss = criterion(output, target)"
   ]
  },
  {
   "cell_type": "code",
   "execution_count": 7,
   "metadata": {},
   "outputs": [
    {
     "data": {
      "text/plain": [
       "torch.Size([5, 10])"
      ]
     },
     "execution_count": 7,
     "metadata": {},
     "output_type": "execute_result"
    }
   ],
   "source": [
    "output.size()"
   ]
  },
  {
   "cell_type": "code",
   "execution_count": 32,
   "metadata": {},
   "outputs": [
    {
     "data": {
      "text/plain": [
       "torch.Size([5, 157])"
      ]
     },
     "execution_count": 32,
     "metadata": {},
     "output_type": "execute_result"
    }
   ],
   "source": [
    "criterion = nn.BCEWithLogitsLoss()\n",
    "# criterion(torch.max(x, dim=2)[0],torch.max(y, dim=2)[0])\n",
    "torch.max(x, dim=2)[0].shape\n",
    "# x.shape"
   ]
  },
  {
   "cell_type": "code",
   "execution_count": 58,
   "metadata": {},
   "outputs": [],
   "source": [
    "batch_size, n_classes = 5, 1\n",
    "x = torch.randn(batch_size, n_classes,64)\n",
    "# print(x)\n",
    "x = torch.ones_like(x)\n",
    "y = torch.randn(batch_size)\n",
    "y = torch.zeros_like(y)\n",
    "# F.binary_cross_entropy_with_logits(torch.max(x, dim=2)[0], y)"
   ]
  },
  {
   "cell_type": "code",
   "execution_count": 59,
   "metadata": {},
   "outputs": [
    {
     "name": "stdout",
     "output_type": "stream",
     "text": [
      "tensor([0., 0., 0., 0., 0.])\n"
     ]
    },
    {
     "data": {
      "text/plain": [
       "torch.Size([5, 1, 64])"
      ]
     },
     "execution_count": 59,
     "metadata": {},
     "output_type": "execute_result"
    }
   ],
   "source": [
    "# y[4] = 0\n",
    "print(y)\n",
    "x.size()\n"
   ]
  },
  {
   "cell_type": "code",
   "execution_count": 56,
   "metadata": {},
   "outputs": [
    {
     "data": {
      "text/plain": [
       "tensor([[1.],\n",
       "        [1.],\n",
       "        [1.],\n",
       "        [1.],\n",
       "        [1.]])"
      ]
     },
     "execution_count": 56,
     "metadata": {},
     "output_type": "execute_result"
    }
   ],
   "source": [
    "x = torch.max(x, dim=2)[0]\n",
    "x"
   ]
  },
  {
   "cell_type": "code",
   "execution_count": 53,
   "metadata": {},
   "outputs": [
    {
     "data": {
      "text/plain": [
       "tensor(1.3133)"
      ]
     },
     "execution_count": 53,
     "metadata": {},
     "output_type": "execute_result"
    }
   ],
   "source": [
    "x = x.squeeze(1)\n",
    "F.binary_cross_entropy_with_logits(x,y)\n"
   ]
  },
  {
   "cell_type": "code",
   "execution_count": 28,
   "metadata": {},
   "outputs": [
    {
     "data": {
      "text/plain": [
       "tensor([1., 1., 1., 1., 1.])"
      ]
     },
     "execution_count": 28,
     "metadata": {},
     "output_type": "execute_result"
    }
   ],
   "source": [
    "y"
   ]
  },
  {
   "cell_type": "code",
   "execution_count": 83,
   "metadata": {},
   "outputs": [
    {
     "name": "stdout",
     "output_type": "stream",
     "text": [
      "tensor([0, 1, 0, 0, 1])\n"
     ]
    },
    {
     "data": {
      "text/plain": [
       "tensor([[1., 0.],\n",
       "        [0., 1.],\n",
       "        [1., 0.],\n",
       "        [1., 0.],\n",
       "        [0., 1.]])"
      ]
     },
     "execution_count": 83,
     "metadata": {},
     "output_type": "execute_result"
    }
   ],
   "source": [
    "target = torch.randint(n_classes, size=(batch_size,), dtype=torch.long)\n",
    "print(target)\n",
    "y = torch.zeros(batch_size, n_classes)\n",
    "y[range(y.shape[0]), target]=1\n",
    "y"
   ]
  },
  {
   "cell_type": "code",
   "execution_count": 87,
   "metadata": {},
   "outputs": [
    {
     "data": {
      "text/plain": [
       "tensor(1.2780)"
      ]
     },
     "execution_count": 87,
     "metadata": {},
     "output_type": "execute_result"
    }
   ],
   "source": [
    "F.binary_cross_entropy_with_logits(torch.max(x, dim=2)[0], y)"
   ]
  },
  {
   "cell_type": "code",
   "execution_count": 81,
   "metadata": {},
   "outputs": [
    {
     "data": {
      "text/plain": [
       "3"
      ]
     },
     "execution_count": 81,
     "metadata": {},
     "output_type": "execute_result"
    }
   ],
   "source": [
    "i3d = InceptionI3d(400, in_channels=2)\n",
    "layers = []\n",
    "for param in i3d.Conv3d_1a_7x7.parameters():\n",
    "    layers.append(param.requires_grad)\n",
    "len(layers)"
   ]
  },
  {
   "cell_type": "code",
   "execution_count": 85,
   "metadata": {},
   "outputs": [
    {
     "data": {
      "text/plain": [
       "0"
      ]
     },
     "execution_count": 85,
     "metadata": {},
     "output_type": "execute_result"
    }
   ],
   "source": [
    "i3d = InceptionI3d(400, in_channels=2)\n",
    "layers = []\n",
    "for param in i3d..parameters():\n",
    "    layers.append(param.requires_grad)\n",
    "len(layers)"
   ]
  },
  {
   "cell_type": "code",
   "execution_count": 104,
   "metadata": {},
   "outputs": [
    {
     "ename": "TypeError",
     "evalue": "'torch.Size' object cannot be interpreted as an integer",
     "output_type": "error",
     "traceback": [
      "\u001b[0;31m---------------------------------------------------------------------------\u001b[0m",
      "\u001b[0;31mTypeError\u001b[0m                                 Traceback (most recent call last)",
      "\u001b[0;32m<ipython-input-104-1fd918d930a1>\u001b[0m in \u001b[0;36m<module>\u001b[0;34m()\u001b[0m\n\u001b[1;32m      1\u001b[0m \u001b[0my\u001b[0m \u001b[0;34m=\u001b[0m \u001b[0mtorch\u001b[0m\u001b[0;34m.\u001b[0m\u001b[0mrandn\u001b[0m\u001b[0;34m(\u001b[0m\u001b[0;36m5\u001b[0m\u001b[0;34m)\u001b[0m\u001b[0;34m\u001b[0m\u001b[0;34m\u001b[0m\u001b[0m\n\u001b[0;32m----> 2\u001b[0;31m \u001b[0my\u001b[0m\u001b[0;34m[\u001b[0m\u001b[0mrange\u001b[0m\u001b[0;34m(\u001b[0m\u001b[0my\u001b[0m\u001b[0;34m.\u001b[0m\u001b[0mshape\u001b[0m\u001b[0;34m)\u001b[0m\u001b[0;34m,\u001b[0m\u001b[0my\u001b[0m\u001b[0;34m]\u001b[0m \u001b[0;34m=\u001b[0m \u001b[0;36m1\u001b[0m\u001b[0;34m\u001b[0m\u001b[0;34m\u001b[0m\u001b[0m\n\u001b[0m\u001b[1;32m      3\u001b[0m \u001b[0my\u001b[0m\u001b[0;34m\u001b[0m\u001b[0;34m\u001b[0m\u001b[0m\n",
      "\u001b[0;31mTypeError\u001b[0m: 'torch.Size' object cannot be interpreted as an integer"
     ]
    }
   ],
   "source": [
    "y = torch.randn(5)\n",
    "y[range(y.shape),y] = 1\n",
    "y"
   ]
  },
  {
   "cell_type": "code",
   "execution_count": 153,
   "metadata": {
    "collapsed": true
   },
   "outputs": [],
   "source": [
    "p = x"
   ]
  },
  {
   "cell_type": "code",
   "execution_count": 154,
   "metadata": {},
   "outputs": [
    {
     "data": {
      "text/plain": [
       "torch.Size([5, 1, 1])"
      ]
     },
     "execution_count": 154,
     "metadata": {},
     "output_type": "execute_result"
    }
   ],
   "source": [
    "x.size()"
   ]
  },
  {
   "cell_type": "code",
   "execution_count": 155,
   "metadata": {},
   "outputs": [],
   "source": [
    "p = p.squeeze(2)"
   ]
  },
  {
   "cell_type": "code",
   "execution_count": 160,
   "metadata": {},
   "outputs": [
    {
     "data": {
      "text/plain": [
       "torch.Size([5])"
      ]
     },
     "execution_count": 160,
     "metadata": {},
     "output_type": "execute_result"
    }
   ],
   "source": [
    "p = p.squeeze(1)\n",
    "p.size()"
   ]
  },
  {
   "cell_type": "code",
   "execution_count": 137,
   "metadata": {},
   "outputs": [
    {
     "data": {
      "text/plain": [
       "CrossMapLRN2d(\n",
       "  tensor([[-0.4089,  0.5265],\n",
       "          [-0.6818, -0.8182],\n",
       "          [ 1.4865,  0.2778],\n",
       "          [-0.2442,  0.0745],\n",
       "          [ 0.7655, -0.9072]]), alpha=tensor([ 0.2480,  0.2186,  1.0653, -1.2147,  0.5097]), beta=0.75, k=1\n",
       ")"
      ]
     },
     "execution_count": 137,
     "metadata": {},
     "output_type": "execute_result"
    }
   ],
   "source": [
    "nn.CrossMapLRN2d(x,y)"
   ]
  },
  {
   "cell_type": "code",
   "execution_count": 164,
   "metadata": {},
   "outputs": [],
   "source": [
    "loss = F.binary_cross_entropy_with_logits(p,y)"
   ]
  },
  {
   "cell_type": "code",
   "execution_count": 62,
   "metadata": {},
   "outputs": [],
   "source": [
    "loss = 10"
   ]
  },
  {
   "cell_type": "code",
   "execution_count": 65,
   "metadata": {},
   "outputs": [],
   "source": [
    "with open(\"ok.txt\", 'w') as file:\n",
    "    file.write(\"%f \\n\" %(loss/10))"
   ]
  },
  {
   "cell_type": "code",
   "execution_count": 1,
   "metadata": {},
   "outputs": [
    {
     "ename": "SyntaxError",
     "evalue": "invalid syntax (<ipython-input-1-0741528698cf>, line 1)",
     "output_type": "error",
     "traceback": [
      "\u001b[0;36m  File \u001b[0;32m\"<ipython-input-1-0741528698cf>\"\u001b[0;36m, line \u001b[0;32m1\u001b[0m\n\u001b[0;31m    x = torch.randn(5, 1024 n_classes,64)\u001b[0m\n\u001b[0m                                    ^\u001b[0m\n\u001b[0;31mSyntaxError\u001b[0m\u001b[0;31m:\u001b[0m invalid syntax\n"
     ]
    }
   ],
   "source": [
    "x = torch.randn(5, 1024 n_classes,64)\n"
   ]
  },
  {
   "cell_type": "code",
   "execution_count": null,
   "metadata": {},
   "outputs": [],
   "source": []
  }
 ],
 "metadata": {
  "kernelspec": {
   "display_name": "Python 3",
   "language": "python",
   "name": "python3"
  },
  "language_info": {
   "codemirror_mode": {
    "name": "ipython",
    "version": 3
   },
   "file_extension": ".py",
   "mimetype": "text/x-python",
   "name": "python",
   "nbconvert_exporter": "python",
   "pygments_lexer": "ipython3",
   "version": "3.6.8"
  }
 },
 "nbformat": 4,
 "nbformat_minor": 2
}
