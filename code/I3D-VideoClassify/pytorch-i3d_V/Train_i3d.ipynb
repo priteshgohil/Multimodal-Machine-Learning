{
 "cells": [
  {
   "cell_type": "code",
   "execution_count": 1,
   "metadata": {
    "collapsed": true
   },
   "outputs": [],
   "source": [
    "import os\n",
    "os.environ[\"CUDA_DEVICE_ORDER\"]=\"PCI_BUS_ID\"   \n",
    "#os.environ[\"CUDA_VISIBLE_DEVICES\"]='0,1,2,3'\n",
    "import sys\n",
    "import argparse\n",
    "\n",
    "# parser = argparse.ArgumentParser()\n",
    "# parser.add_argument('-mode', type=str, help='rgb or flow')\n",
    "# parser.add_argument('-save_model', type=str)\n",
    "# parser.add_argument('-root', type=str)\n",
    "\n",
    "# args = parser.parse_args()\n",
    "\n",
    "\n",
    "import torch\n",
    "import torch.nn as nn\n",
    "import torch.nn.functional as F\n",
    "import torch.optim as optim\n",
    "from torch.optim import lr_scheduler\n",
    "from torch.autograd import Variable\n",
    "\n",
    "import torchvision\n",
    "from torchvision import datasets, transforms\n",
    "import videotransforms\n",
    "\n",
    "\n",
    "import numpy as np\n",
    "\n",
    "from pytorch_i3d import InceptionI3d\n",
    "from pytorch_i3d import FusionNet\n",
    "\n",
    "# from charades_dataset import Charades as Dataset\n",
    "from visual_tactile_dataset import VisualTactile as Dataset\n",
    "import cv2\n",
    "import matplotlib.pyplot as plt"
   ]
  },
  {
   "cell_type": "code",
   "execution_count": null,
   "metadata": {
    "collapsed": true
   },
   "outputs": [],
   "source": [
    "path = \"/media/pritesh/Entertainment/Visual-Tactile_Dataset/dataset/\"\n",
    "i3d = InceptionI3d(400, in_channels=2)\n",
    "i3d.load_state_dict(torch.load('models/flow_imagenet.pt'))\n",
    "i3d.train(True)\n",
    "\n",
    "train_transforms = transforms.Compose([videotransforms.RandomCrop(224),\n",
    "                                       videotransforms.RandomHorizontalFlip(),])\n",
    "# train_transforms = transforms.Compose([videotransforms.CenterCrop(480),\n",
    "#                                        videotransforms.RandomHorizontalFlip(),])\n",
    "dataset = Dataset('train.txt',path, transform=train_transforms)\n",
    "# dataset = Dataset(path)\n",
    "dataloader = torch.utils.data.DataLoader(dataset, batch_size=1, shuffle=True, num_workers=0, pin_memory=False)\n",
    "# for data in dataset:\n",
    "c = 0\n",
    "for data in dataloader:\n",
    "    print(\"ok getting single data\")\n",
    "    f_vid, l_vid, tactile, pos, label = data\n",
    "    c += 1\n",
    "    if (c%2 == 0):\n",
    "        break\n",
    "\n",
    "# image,tactile,control_label,front_video,left_video,pos,label = dataset[0]"
   ]
  },
  {
   "cell_type": "code",
   "execution_count": null,
   "metadata": {
    "collapsed": true
   },
   "outputs": [],
   "source": [
    "print(f_vid.shape)\n",
    "plt.imshow(f_vid[0][0][0])\n",
    "# torch.from_numpy(left_video.transpose([3,0,1,2])).size()\n",
    "# np.array(front_video[0]).shape"
   ]
  },
  {
   "cell_type": "code",
   "execution_count": null,
   "metadata": {
    "collapsed": true
   },
   "outputs": [],
   "source": [
    "path = \"/media/pritesh/Entertainment/Visual-Tactile_Dataset/dataset/Cheez/50_432/top/0/front_0.jpg\"\n",
    "image = cv2.imread(path)\n",
    "# cv2.imshow('im', image)\n",
    "# image = cv2.cvtColor(image,cv2.COLOR_BGR2RGB)\n",
    "# cv2.imshow('im',image)\n",
    "# cv2.waitKey(1000)\n",
    "np.asarray(image, dtype=np.float32)\n"
   ]
  },
  {
   "cell_type": "code",
   "execution_count": null,
   "metadata": {
    "collapsed": true
   },
   "outputs": [],
   "source": [
    "train_transforms = transforms.Compose([videotransforms.RandomCrop(224),\n",
    "                                       videotransforms.RandomHorizontalFlip(),])"
   ]
  },
  {
   "cell_type": "code",
   "execution_count": null,
   "metadata": {
    "collapsed": true
   },
   "outputs": [],
   "source": [
    "def run(init_lr=0.1, max_steps=64e3, mode='rgb', root=\"/media/pritesh/Entertainment/Visual-Tactile_Dataset/dataset/\"\n",
    "        , train_split=None, batch_size=1, save_model=''):\n",
    "#     # setup dataset\n",
    "#     train_transforms = transforms.Compose([videotransforms.RandomCrop(224),\n",
    "#                                            videotransforms.RandomHorizontalFlip(),\n",
    "#     ])\n",
    "#     test_transforms = transforms.Compose([videotransforms.CenterCrop(224)])\n",
    "\n",
    "    dataset = Dataset(root)\n",
    "    dataset = Dataset(root,transform=videotransforms.CenterCrop(224))\n",
    "#     dataset = Dataset(train_split, 'training', root, mode, train_transforms)\n",
    "#     dataloader = torch.utils.data.DataLoader(dataset, batch_size=batch_size, shuffle=True, num_workers=36, pin_memory=True)\n",
    "\n",
    "#     val_dataset = Dataset(train_split, 'testing', root, mode, test_transforms)\n",
    "#     val_dataloader = torch.utils.data.DataLoader(val_dataset, batch_size=batch_size, shuffle=True, num_workers=36, pin_memory=True)    \n",
    "\n",
    "#     dataloaders = {'train': dataloader, 'val': val_dataloader}\n",
    "#     datasets = {'train': dataset, 'val': val_dataset}\n",
    "\n",
    "    \n",
    "    # setup the model\n",
    "    if mode == 'flow':\n",
    "        i3d = InceptionI3d(400, in_channels=2)\n",
    "        i3d.load_state_dict(torch.load('models/flow_imagenet.pt'))\n",
    "    else:\n",
    "        i3d = InceptionI3d(400, in_channels=3)\n",
    "        i3d.load_state_dict(torch.load('models/rgb_imagenet.pt'))\n",
    "    i3d.replace_logits(157)\n",
    "#     #i3d.load_state_dict(torch.load('/ssd/models/000920.pt'))\n",
    "#     i3d.cuda()\n",
    "#     i3d = nn.DataParallel(i3d)\n",
    "\n",
    "    lr = init_lr\n",
    "    optimizer = optim.SGD(i3d.parameters(), lr=lr, momentum=0.9, weight_decay=0.0000001)\n",
    "    lr_sched = optim.lr_scheduler.MultiStepLR(optimizer, [300, 1000])\n",
    "\n",
    "    num_steps_per_update = 4 # accum gradient\n",
    "    steps = 0\n",
    "    # train it\n",
    "    while steps < max_steps:#for epoch in range(num_epochs):\n",
    "        print ('Step {}/{}'.format(steps, max_steps))\n",
    "        print ('-' * 10)\n",
    "\n",
    "#         # Each epoch has a training and validation phase\n",
    "#         for phase in ['train', 'val']:\n",
    "#             if phase == 'train':\n",
    "#                 i3d.train(True)\n",
    "#             else:\n",
    "#                 i3d.train(False)  # Set model to evaluate mode\n",
    "        i3d.train(True)\n",
    "        tot_loss = 0.0\n",
    "        tot_loc_loss = 0.0\n",
    "        tot_cls_loss = 0.0\n",
    "        num_iter = 0\n",
    "        optimizer.zero_grad()\n",
    "\n",
    "        # Iterate over data.\n",
    "#         for data in dataloaders[phase]:\n",
    "        for data in dataset:\n",
    "            num_iter += 1\n",
    "            # get the inputs\n",
    "#             inputs, labels = data\n",
    "            image,tactile,control_label,front_video,left_video,pos,label = data\n",
    "\n",
    "#             # wrap them in Variable\n",
    "#             inputs = Variable(inputs.cuda())\n",
    "#             t = inputs.size(2)\n",
    "#             labels = Variable(labels.cuda())\n",
    "            front_video = front_video.unsqueeze(0)\n",
    "            inputs = Variable(front_video)\n",
    "#             inputs = torch.FloatTensor(front_video)\n",
    "#             inputs = Variable(inputs)\n",
    "            print(type(inputs))\n",
    "            print(inputs.size())\n",
    "#             inputs = front_video\n",
    "            t = len(inputs)\n",
    "            print(inputs.size())\n",
    "            \n",
    "            print(\"calculationg per_frame_logits\")\n",
    "            per_frame_logits = i3d(inputs)\n",
    "            # upsample to input size\n",
    "            print(\"upsampling per_frame_logits\", per_frame_logits)\n",
    "            per_frame_logits = F.upsample(per_frame_logits, t, mode='linear')\n",
    "\n",
    "            print(\"computing localization loss\")\n",
    "            # compute localization loss\n",
    "            loc_loss = F.binary_cross_entropy_with_logits(per_frame_logits, labels)\n",
    "            tot_loc_loss += loc_loss.data[0]\n",
    "\n",
    "            # compute classification loss (with max-pooling along time B x C x T)\n",
    "            cls_loss = F.binary_cross_entropy_with_logits(torch.max(per_frame_logits, dim=2)[0], torch.max(labels, dim=2)[0])\n",
    "            tot_cls_loss += cls_loss.data[0]\n",
    "\n",
    "            loss = (0.5*loc_loss + 0.5*cls_loss)/num_steps_per_update\n",
    "            tot_loss += loss.data[0]\n",
    "            loss.backward()\n",
    "\n",
    "            print ('{} Loc Loss: {:.4f} Cls Loss: {:.4f} Tot Loss: {:.4f}'.format(phase, tot_loc_loss/(10*num_steps_per_update), tot_cls_loss/(10*num_steps_per_update), tot_loss/10))\n",
    "            if num_iter == num_steps_per_update and phase == 'train':\n",
    "                steps += 1\n",
    "                num_iter = 0\n",
    "                optimizer.step()\n",
    "                optimizer.zero_grad()\n",
    "                lr_sched.step()\n",
    "                if steps % 10 == 0:\n",
    "                    print ('{} Loc Loss: {:.4f} Cls Loss: {:.4f} Tot Loss: {:.4f}'.format(phase, tot_loc_loss/(10*num_steps_per_update), tot_cls_loss/(10*num_steps_per_update), tot_loss/10))\n",
    "                    # save model\n",
    "                    torch.save(i3d.module.state_dict(), save_model+str(steps).zfill(6)+'.pt')\n",
    "                    tot_loss = tot_loc_loss = tot_cls_loss = 0.\n",
    "        if phase == 'val':\n",
    "            print ('{} Loc Loss: {:.4f} Cls Loss: {:.4f} Tot Loss: {:.4f}'.format(phase, tot_loc_loss/num_iter, tot_cls_loss/num_iter, (tot_loss*num_steps_per_update)/num_iter) )\n",
    "    \n",
    "\n",
    "\n",
    "if __name__ == '__main__':\n",
    "    # need to add argparse\n",
    "#     run(mode=args.mode, root=args.root, save_model=args.save_model)\n",
    "    run()\n"
   ]
  },
  {
   "cell_type": "markdown",
   "metadata": {},
   "source": [
    "# Architecture after modified dataloader."
   ]
  },
  {
   "cell_type": "code",
   "execution_count": null,
   "metadata": {
    "collapsed": true
   },
   "outputs": [],
   "source": [
    "# def run(init_lr=0.1, max_steps=64e3, mode='rgb', root='/ssd/Charades_v1_rgb', train_split='charades/charades.json', batch_size=8*5, save_model=''):\n",
    "def run(init_lr=0.001, max_steps=10, mode='rgb', root='/media/pritesh/Entertainment/Visual-Tactile_Dataset/dataset/',\\\n",
    "        train_split='train.txt', test_split='test.txt', batch_size=1, save_model=''):\n",
    "    # setup dataset\n",
    "    train_transforms = transforms.Compose([videotransforms.RandomCrop(224),\n",
    "                                           videotransforms.RandomHorizontalFlip(),])\n",
    "    test_transforms = transforms.Compose([videotransforms.CenterCrop(224)])\n",
    "\n",
    "    dataset = Dataset(train_split, root, mode, train_transforms)\n",
    "    dataloader = torch.utils.data.DataLoader(dataset, batch_size=batch_size, shuffle=True, num_workers=0, pin_memory=True)\n",
    "\n",
    "    val_dataset = Dataset(test_split, root, mode, test_transforms)\n",
    "    val_dataloader = torch.utils.data.DataLoader(val_dataset, batch_size=batch_size, shuffle=True, num_workers=0, pin_memory=True)    \n",
    "\n",
    "    dataloaders = {'train': dataloader, 'val': val_dataloader}\n",
    "    datasets = {'train': dataset, 'val': val_dataset}\n",
    "\n",
    "    \n",
    "    # setup the model\n",
    "    if mode == 'flow':\n",
    "        i3d = InceptionI3d(400, in_channels=2)\n",
    "        i3d.load_state_dict(torch.load('models/flow_imagenet.pt'))\n",
    "    else:\n",
    "        i3d = InceptionI3d(400, in_channels=3)\n",
    "        i3d.load_state_dict(torch.load('models/rgb_imagenet.pt'))\n",
    "    i3d.replace_logits(157)\n",
    "#     #i3d.load_state_dict(torch.load('/ssd/models/000920.pt'))\n",
    "#     i3d.cuda()\n",
    "#     i3d = nn.DataParallel(i3d)\n",
    "\n",
    "    lr = init_lr\n",
    "    optimizer = optim.SGD(i3d.parameters(), lr=lr, momentum=0.9, weight_decay=0.0000001)\n",
    "#     lr_sched = optim.lr_scheduler.MultiStepLR(optimizer, [300, 1000])\n",
    "    lr_sched = optim.lr_scheduler.MultiStepLR(optimizer, [4, 7])\n",
    "\n",
    "\n",
    "    num_steps_per_update = 4 # accum gradient\n",
    "    steps = 0\n",
    "    # train it\n",
    "    while steps < max_steps:#for epoch in range(num_epochs):\n",
    "        print ('Step {}/{}'.format(steps, max_steps))\n",
    "        print ('-' * 10)\n",
    "\n",
    "        # Each epoch has a training and validation phase\n",
    "        for phase in ['train', 'val']:\n",
    "            if phase == 'train':\n",
    "                i3d.train(True)\n",
    "            else:\n",
    "                i3d.train(False)  # Set model to evaluate mode\n",
    "                \n",
    "            tot_loss = 0.0\n",
    "            tot_loc_loss = 0.0\n",
    "            tot_cls_loss = 0.0\n",
    "            num_iter = 0\n",
    "            optimizer.zero_grad()\n",
    "            \n",
    "            # Iterate over data.\n",
    "            for data in dataloaders[phase]:\n",
    "                num_iter += 1\n",
    "                # get the inputs\n",
    "                f_vid, l_vid, tactile, pos, labels = data\n",
    "\n",
    "                # wrap them in Variable\n",
    "                inputs = Variable(f_vid)\n",
    "                t = inputs.size(2)\n",
    "                labels = Variable(labels)\n",
    "#                 inputs = Variable(inputs.cuda())\n",
    "#                 t = inputs.size(2)\n",
    "#                 labels = Variable(labels.cuda())\n",
    "                print(\"go to i3d\")\n",
    "#                 per_frame_logits = i3d(inputs.float())\n",
    "#                 # upsample to input size\n",
    "#                 per_frame_logits = F.upsample(per_frame_logits, t, mode='linear')\n",
    "\n",
    "#                 # compute localization loss\n",
    "#                 loc_loss = F.binary_cross_entropy_with_logits(per_frame_logits, labels)\n",
    "#                 tot_loc_loss += loc_loss.data[0]\n",
    "\n",
    "#                 # compute classification loss (with max-pooling along time B x C x T)\n",
    "#                 cls_loss = F.binary_cross_entropy_with_logits(torch.max(per_frame_logits, dim=2)[0], torch.max(labels, dim=2)[0])\n",
    "#                 tot_cls_loss += cls_loss.data[0]\n",
    "\n",
    "#                 loss = (0.5*loc_loss + 0.5*cls_loss)/num_steps_per_update\n",
    "#                 tot_loss += loss.data[0]\n",
    "#                 loss.backward()\n",
    "\n",
    "#                 if num_iter == num_steps_per_update and phase == 'train':\n",
    "#                     steps += 1\n",
    "#                     num_iter = 0\n",
    "#                     optimizer.step()\n",
    "#                     optimizer.zero_grad()\n",
    "#                     lr_sched.step()\n",
    "#                     if steps % 10 == 0:\n",
    "#                         print ('{} Loc Loss: {:.4f} Cls Loss: {:.4f} Tot Loss: {:.4f}'.format(phase, tot_loc_loss/(10*num_steps_per_update), tot_cls_loss/(10*num_steps_per_update), tot_loss/10))\n",
    "#                         # save model\n",
    "#                         torch.save(i3d.module.state_dict(), save_model+str(steps).zfill(6)+'.pt')\n",
    "#                         tot_loss = tot_loc_loss = tot_cls_loss = 0.\n",
    "#             if phase == 'val':\n",
    "#                 print ('{} Loc Loss: {:.4f} Cls Loss: {:.4f} Tot Loss: {:.4f}'.format(phase, tot_loc_loss/num_iter, tot_cls_loss/num_iter, (tot_loss*num_steps_per_update)/num_iter) )\n",
    "    \n",
    "\n",
    "\n",
    "if __name__ == '__main__':\n",
    "    # need to add argparse\n",
    "#     run(mode=args.mode, root=args.root, save_model=args.save_model)\n",
    "    run(save_model=\"test.pt\")\n"
   ]
  },
  {
   "cell_type": "code",
   "execution_count": 32,
   "metadata": {
    "collapsed": false
   },
   "outputs": [
    {
     "data": {
      "text/plain": [
       "IncompatibleKeys(missing_keys=[], unexpected_keys=[])"
      ]
     },
     "execution_count": 32,
     "metadata": {},
     "output_type": "execute_result"
    }
   ],
   "source": [
    "i3d = InceptionI3d(num_classes=1)\n",
    "i3d.load_state_dict(torch.load('video_i3dtrain000102.pt', map_location=lambda storage, loc: storage))"
   ]
  },
  {
   "cell_type": "code",
   "execution_count": 78,
   "metadata": {
    "collapsed": false
   },
   "outputs": [],
   "source": [
    "i3d = InceptionI3d(num_classes = 1)\n",
    "for para in i3d.parameters():\n",
    "    para.requires_grad = False"
   ]
  },
  {
   "cell_type": "code",
   "execution_count": 79,
   "metadata": {
    "collapsed": false
   },
   "outputs": [],
   "source": [
    "from pytorch_i3d import FusionNet\n",
    "fusedNet = FusionNet(i3d)"
   ]
  },
  {
   "cell_type": "code",
   "execution_count": 82,
   "metadata": {
    "collapsed": false
   },
   "outputs": [
    {
     "data": {
      "text/plain": [
       "177"
      ]
     },
     "execution_count": 82,
     "metadata": {},
     "output_type": "execute_result"
    }
   ],
   "source": [
    "data =[]\n",
    "for p in fusedNet.parameters():\n",
    "#     print(p.requires_grad)\n",
    "    data.append(p.requires_grad)\n",
    "len(data)"
   ]
  },
  {
   "cell_type": "code",
   "execution_count": 65,
   "metadata": {
    "collapsed": false
   },
   "outputs": [],
   "source": [
    "def save_checkpoint(model, optimizer, scheduler, epoch):\n",
    "    data = {'model_state' : model.state_dict(),\n",
    "            'optimizer_state' : optimizer.state_dict(),\n",
    "            'scheduler_state' : scheduler.state_dict(),\n",
    "            'epoch' : epoch+1}\n",
    "    torch.save(data, 'model_%d.tar' % (epoch + 1))\n",
    "    \n",
    "def load_model(input_channels, learning_rate, scheduler_list, checkpoint=None):\n",
    "    i3d = InceptionI3d(1, in_channels=input_channels)\n",
    "    fusedNet = FusionNet(i3d)\n",
    "    #i3d = i3d.to(self.device)\n",
    "    optimizer = optim.SGD(fusedNet.parameters(), lr=learning_rate, momentum=0.9, weight_decay=0.0000001)\n",
    "    scheduler = optim.lr_scheduler.MultiStepLR(optimizer, scheduler_list)\n",
    "    if (checkpoint is not None):\n",
    "#         fusedNet.load_state_dict(torch.load(checkpoint, map_location=lambda storage, loc: storage))\n",
    "        data = torch.load(checkpoint)\n",
    "        fusedNet.load_state_dict(torch.load(data['model_state']))\n",
    "        optimizer.load_state_dict(data['optimizer_state'])\n",
    "        scheduler.load_state_dict(data['scheduler_state'])\n",
    "    return fusedNet, optimizer, scheduler\n",
    "\n",
    "\n",
    "# # save new model    \n",
    "# optimizer = optim.SGD(i3d.parameters(), lr=0.1, momentum=0.9, weight_decay=0.0000001)\n",
    "# lr_sched = optim.lr_scheduler.MultiStepLR(optimizer, [50, 100, 150, 200])\n",
    "# save_checkpoint(fusedNet, optimizer, lr_sched, 10)\n"
   ]
  },
  {
   "cell_type": "code",
   "execution_count": 72,
   "metadata": {
    "collapsed": false
   },
   "outputs": [
    {
     "ename": "AttributeError",
     "evalue": "'collections.OrderedDict' object has no attribute 'seek'. You can only torch.load from a file that is seekable. Please pre-load the data into a buffer like io.BytesIO and try to load from it instead.",
     "output_type": "error",
     "traceback": [
      "\u001b[0;31m---------------------------------------------------------------------------\u001b[0m",
      "\u001b[0;31mAttributeError\u001b[0m                            Traceback (most recent call last)",
      "\u001b[0;32m/home/pritesh/anaconda3/lib/python3.6/site-packages/torch/serialization.py\u001b[0m in \u001b[0;36m_check_seekable\u001b[0;34m(f)\u001b[0m\n\u001b[1;32m    190\u001b[0m     \u001b[0;32mtry\u001b[0m\u001b[0;34m:\u001b[0m\u001b[0;34m\u001b[0m\u001b[0;34m\u001b[0m\u001b[0m\n\u001b[0;32m--> 191\u001b[0;31m         \u001b[0mf\u001b[0m\u001b[0;34m.\u001b[0m\u001b[0mseek\u001b[0m\u001b[0;34m(\u001b[0m\u001b[0mf\u001b[0m\u001b[0;34m.\u001b[0m\u001b[0mtell\u001b[0m\u001b[0;34m(\u001b[0m\u001b[0;34m)\u001b[0m\u001b[0;34m)\u001b[0m\u001b[0;34m\u001b[0m\u001b[0;34m\u001b[0m\u001b[0m\n\u001b[0m\u001b[1;32m    192\u001b[0m         \u001b[0;32mreturn\u001b[0m \u001b[0;32mTrue\u001b[0m\u001b[0;34m\u001b[0m\u001b[0;34m\u001b[0m\u001b[0m\n",
      "\u001b[0;31mAttributeError\u001b[0m: 'collections.OrderedDict' object has no attribute 'seek'",
      "\nDuring handling of the above exception, another exception occurred:\n",
      "\u001b[0;31mAttributeError\u001b[0m                            Traceback (most recent call last)",
      "\u001b[0;32m<ipython-input-72-44fac0465abd>\u001b[0m in \u001b[0;36m<module>\u001b[0;34m()\u001b[0m\n\u001b[0;32m----> 1\u001b[0;31m \u001b[0ma\u001b[0m\u001b[0;34m,\u001b[0m\u001b[0mb\u001b[0m\u001b[0;34m,\u001b[0m\u001b[0mc\u001b[0m \u001b[0;34m=\u001b[0m \u001b[0mload_model\u001b[0m\u001b[0;34m(\u001b[0m\u001b[0;36m3\u001b[0m\u001b[0;34m,\u001b[0m\u001b[0;36m0.1\u001b[0m\u001b[0;34m,\u001b[0m \u001b[0;34m[\u001b[0m\u001b[0;36m50\u001b[0m\u001b[0;34m,\u001b[0m \u001b[0;36m100\u001b[0m\u001b[0;34m,\u001b[0m \u001b[0;36m150\u001b[0m\u001b[0;34m,\u001b[0m \u001b[0;36m200\u001b[0m\u001b[0;34m]\u001b[0m\u001b[0;34m,\u001b[0m \u001b[0;34m'model_11.tar'\u001b[0m\u001b[0;34m)\u001b[0m\u001b[0;34m\u001b[0m\u001b[0;34m\u001b[0m\u001b[0m\n\u001b[0m",
      "\u001b[0;32m<ipython-input-65-200b8b5833a7>\u001b[0m in \u001b[0;36mload_model\u001b[0;34m(input_channels, learning_rate, scheduler_list, checkpoint)\u001b[0m\n\u001b[1;32m     15\u001b[0m \u001b[0;31m#         fusedNet.load_state_dict(torch.load(checkpoint, map_location=lambda storage, loc: storage))\u001b[0m\u001b[0;34m\u001b[0m\u001b[0;34m\u001b[0m\u001b[0;34m\u001b[0m\u001b[0m\n\u001b[1;32m     16\u001b[0m         \u001b[0mdata\u001b[0m \u001b[0;34m=\u001b[0m \u001b[0mtorch\u001b[0m\u001b[0;34m.\u001b[0m\u001b[0mload\u001b[0m\u001b[0;34m(\u001b[0m\u001b[0mcheckpoint\u001b[0m\u001b[0;34m)\u001b[0m\u001b[0;34m\u001b[0m\u001b[0;34m\u001b[0m\u001b[0m\n\u001b[0;32m---> 17\u001b[0;31m         \u001b[0mfusedNet\u001b[0m\u001b[0;34m.\u001b[0m\u001b[0mload_state_dict\u001b[0m\u001b[0;34m(\u001b[0m\u001b[0mtorch\u001b[0m\u001b[0;34m.\u001b[0m\u001b[0mload\u001b[0m\u001b[0;34m(\u001b[0m\u001b[0mdata\u001b[0m\u001b[0;34m[\u001b[0m\u001b[0;34m'model_state'\u001b[0m\u001b[0;34m]\u001b[0m\u001b[0;34m)\u001b[0m\u001b[0;34m)\u001b[0m\u001b[0;34m\u001b[0m\u001b[0;34m\u001b[0m\u001b[0m\n\u001b[0m\u001b[1;32m     18\u001b[0m         \u001b[0moptimizer\u001b[0m\u001b[0;34m.\u001b[0m\u001b[0mload_state_dict\u001b[0m\u001b[0;34m(\u001b[0m\u001b[0mdata\u001b[0m\u001b[0;34m[\u001b[0m\u001b[0;34m'optimizer_state'\u001b[0m\u001b[0;34m]\u001b[0m\u001b[0;34m)\u001b[0m\u001b[0;34m\u001b[0m\u001b[0;34m\u001b[0m\u001b[0m\n\u001b[1;32m     19\u001b[0m         \u001b[0mscheduler\u001b[0m\u001b[0;34m.\u001b[0m\u001b[0mload_state_dict\u001b[0m\u001b[0;34m(\u001b[0m\u001b[0mdata\u001b[0m\u001b[0;34m[\u001b[0m\u001b[0;34m'scheduler_state'\u001b[0m\u001b[0;34m]\u001b[0m\u001b[0;34m)\u001b[0m\u001b[0;34m\u001b[0m\u001b[0;34m\u001b[0m\u001b[0m\n",
      "\u001b[0;32m/home/pritesh/anaconda3/lib/python3.6/site-packages/torch/serialization.py\u001b[0m in \u001b[0;36mload\u001b[0;34m(f, map_location, pickle_module, **pickle_load_args)\u001b[0m\n\u001b[1;32m    385\u001b[0m         \u001b[0mf\u001b[0m \u001b[0;34m=\u001b[0m \u001b[0mf\u001b[0m\u001b[0;34m.\u001b[0m\u001b[0mopen\u001b[0m\u001b[0;34m(\u001b[0m\u001b[0;34m'rb'\u001b[0m\u001b[0;34m)\u001b[0m\u001b[0;34m\u001b[0m\u001b[0;34m\u001b[0m\u001b[0m\n\u001b[1;32m    386\u001b[0m     \u001b[0;32mtry\u001b[0m\u001b[0;34m:\u001b[0m\u001b[0;34m\u001b[0m\u001b[0;34m\u001b[0m\u001b[0m\n\u001b[0;32m--> 387\u001b[0;31m         \u001b[0;32mreturn\u001b[0m \u001b[0m_load\u001b[0m\u001b[0;34m(\u001b[0m\u001b[0mf\u001b[0m\u001b[0;34m,\u001b[0m \u001b[0mmap_location\u001b[0m\u001b[0;34m,\u001b[0m \u001b[0mpickle_module\u001b[0m\u001b[0;34m,\u001b[0m \u001b[0;34m**\u001b[0m\u001b[0mpickle_load_args\u001b[0m\u001b[0;34m)\u001b[0m\u001b[0;34m\u001b[0m\u001b[0;34m\u001b[0m\u001b[0m\n\u001b[0m\u001b[1;32m    388\u001b[0m     \u001b[0;32mfinally\u001b[0m\u001b[0;34m:\u001b[0m\u001b[0;34m\u001b[0m\u001b[0;34m\u001b[0m\u001b[0m\n\u001b[1;32m    389\u001b[0m         \u001b[0;32mif\u001b[0m \u001b[0mnew_fd\u001b[0m\u001b[0;34m:\u001b[0m\u001b[0;34m\u001b[0m\u001b[0;34m\u001b[0m\u001b[0m\n",
      "\u001b[0;32m/home/pritesh/anaconda3/lib/python3.6/site-packages/torch/serialization.py\u001b[0m in \u001b[0;36m_load\u001b[0;34m(f, map_location, pickle_module, **pickle_load_args)\u001b[0m\n\u001b[1;32m    547\u001b[0m             \u001b[0;32mraise\u001b[0m \u001b[0mRuntimeError\u001b[0m\u001b[0;34m(\u001b[0m\u001b[0;34m\"Unknown saved id type: %s\"\u001b[0m \u001b[0;34m%\u001b[0m \u001b[0msaved_id\u001b[0m\u001b[0;34m[\u001b[0m\u001b[0;36m0\u001b[0m\u001b[0;34m]\u001b[0m\u001b[0;34m)\u001b[0m\u001b[0;34m\u001b[0m\u001b[0;34m\u001b[0m\u001b[0m\n\u001b[1;32m    548\u001b[0m \u001b[0;34m\u001b[0m\u001b[0m\n\u001b[0;32m--> 549\u001b[0;31m     \u001b[0m_check_seekable\u001b[0m\u001b[0;34m(\u001b[0m\u001b[0mf\u001b[0m\u001b[0;34m)\u001b[0m\u001b[0;34m\u001b[0m\u001b[0;34m\u001b[0m\u001b[0m\n\u001b[0m\u001b[1;32m    550\u001b[0m     \u001b[0mf_should_read_directly\u001b[0m \u001b[0;34m=\u001b[0m \u001b[0m_should_read_directly\u001b[0m\u001b[0;34m(\u001b[0m\u001b[0mf\u001b[0m\u001b[0;34m)\u001b[0m\u001b[0;34m\u001b[0m\u001b[0;34m\u001b[0m\u001b[0m\n\u001b[1;32m    551\u001b[0m \u001b[0;34m\u001b[0m\u001b[0m\n",
      "\u001b[0;32m/home/pritesh/anaconda3/lib/python3.6/site-packages/torch/serialization.py\u001b[0m in \u001b[0;36m_check_seekable\u001b[0;34m(f)\u001b[0m\n\u001b[1;32m    192\u001b[0m         \u001b[0;32mreturn\u001b[0m \u001b[0;32mTrue\u001b[0m\u001b[0;34m\u001b[0m\u001b[0;34m\u001b[0m\u001b[0m\n\u001b[1;32m    193\u001b[0m     \u001b[0;32mexcept\u001b[0m \u001b[0;34m(\u001b[0m\u001b[0mio\u001b[0m\u001b[0;34m.\u001b[0m\u001b[0mUnsupportedOperation\u001b[0m\u001b[0;34m,\u001b[0m \u001b[0mAttributeError\u001b[0m\u001b[0;34m)\u001b[0m \u001b[0;32mas\u001b[0m \u001b[0me\u001b[0m\u001b[0;34m:\u001b[0m\u001b[0;34m\u001b[0m\u001b[0;34m\u001b[0m\u001b[0m\n\u001b[0;32m--> 194\u001b[0;31m         \u001b[0mraise_err_msg\u001b[0m\u001b[0;34m(\u001b[0m\u001b[0;34m[\u001b[0m\u001b[0;34m\"seek\"\u001b[0m\u001b[0;34m,\u001b[0m \u001b[0;34m\"tell\"\u001b[0m\u001b[0;34m]\u001b[0m\u001b[0;34m,\u001b[0m \u001b[0me\u001b[0m\u001b[0;34m)\u001b[0m\u001b[0;34m\u001b[0m\u001b[0;34m\u001b[0m\u001b[0m\n\u001b[0m\u001b[1;32m    195\u001b[0m \u001b[0;34m\u001b[0m\u001b[0m\n\u001b[1;32m    196\u001b[0m \u001b[0;34m\u001b[0m\u001b[0m\n",
      "\u001b[0;32m/home/pritesh/anaconda3/lib/python3.6/site-packages/torch/serialization.py\u001b[0m in \u001b[0;36mraise_err_msg\u001b[0;34m(patterns, e)\u001b[0m\n\u001b[1;32m    185\u001b[0m                                 \u001b[0;34m\" Please pre-load the data into a buffer like io.BytesIO and\"\u001b[0m \u001b[0;34m+\u001b[0m\u001b[0;34m\u001b[0m\u001b[0;34m\u001b[0m\u001b[0m\n\u001b[1;32m    186\u001b[0m                                 \" try to load from it instead.\")\n\u001b[0;32m--> 187\u001b[0;31m                 \u001b[0;32mraise\u001b[0m \u001b[0mtype\u001b[0m\u001b[0;34m(\u001b[0m\u001b[0me\u001b[0m\u001b[0;34m)\u001b[0m\u001b[0;34m(\u001b[0m\u001b[0mmsg\u001b[0m\u001b[0;34m)\u001b[0m\u001b[0;34m\u001b[0m\u001b[0;34m\u001b[0m\u001b[0m\n\u001b[0m\u001b[1;32m    188\u001b[0m         \u001b[0;32mraise\u001b[0m \u001b[0me\u001b[0m\u001b[0;34m\u001b[0m\u001b[0;34m\u001b[0m\u001b[0m\n\u001b[1;32m    189\u001b[0m \u001b[0;34m\u001b[0m\u001b[0m\n",
      "\u001b[0;31mAttributeError\u001b[0m: 'collections.OrderedDict' object has no attribute 'seek'. You can only torch.load from a file that is seekable. Please pre-load the data into a buffer like io.BytesIO and try to load from it instead."
     ]
    }
   ],
   "source": [
    "a,b,c = load_model(3,0.1, [50, 100, 150, 200], 'model_11.tar')"
   ]
  },
  {
   "cell_type": "code",
   "execution_count": 22,
   "metadata": {
    "collapsed": false
   },
   "outputs": [
    {
     "ename": "RuntimeError",
     "evalue": "storage has wrong size: expected 0 got 1",
     "output_type": "error",
     "traceback": [
      "\u001b[0;31m---------------------------------------------------------------------------\u001b[0m",
      "\u001b[0;31mRuntimeError\u001b[0m                              Traceback (most recent call last)",
      "\u001b[0;32m<ipython-input-22-f7172967f276>\u001b[0m in \u001b[0;36m<module>\u001b[0;34m()\u001b[0m\n\u001b[1;32m     32\u001b[0m     \u001b[0;32mreturn\u001b[0m \u001b[0mfusedNet\u001b[0m\u001b[0;34m,\u001b[0m \u001b[0moptimizer\u001b[0m\u001b[0;34m,\u001b[0m \u001b[0mscheduler\u001b[0m\u001b[0;34m\u001b[0m\u001b[0;34m\u001b[0m\u001b[0m\n\u001b[1;32m     33\u001b[0m \u001b[0;34m\u001b[0m\u001b[0m\n\u001b[0;32m---> 34\u001b[0;31m \u001b[0ma\u001b[0m\u001b[0;34m,\u001b[0m\u001b[0mb\u001b[0m\u001b[0;34m,\u001b[0m\u001b[0mc\u001b[0m \u001b[0;34m=\u001b[0m \u001b[0mload_model\u001b[0m\u001b[0;34m(\u001b[0m\u001b[0;36m3\u001b[0m\u001b[0;34m,\u001b[0m \u001b[0;36m0.1\u001b[0m\u001b[0;34m,\u001b[0m \u001b[0;34m[\u001b[0m\u001b[0;36m50\u001b[0m\u001b[0;34m,\u001b[0m \u001b[0;36m100\u001b[0m\u001b[0;34m,\u001b[0m \u001b[0;36m150\u001b[0m\u001b[0;34m,\u001b[0m \u001b[0;36m200\u001b[0m\u001b[0;34m]\u001b[0m\u001b[0;34m,\u001b[0m \u001b[0;34m'model_1.tar'\u001b[0m\u001b[0;34m)\u001b[0m\u001b[0;34m\u001b[0m\u001b[0;34m\u001b[0m\u001b[0m\n\u001b[0m",
      "\u001b[0;32m<ipython-input-22-f7172967f276>\u001b[0m in \u001b[0;36mload_model\u001b[0;34m(input_channels, learning_rate, scheduler_list, checkpoint)\u001b[0m\n\u001b[1;32m     26\u001b[0m \u001b[0;31m#         fusedNet.load_state_dict(torch.load(checkpoint, map_location=lambda storage, loc: storage))\u001b[0m\u001b[0;34m\u001b[0m\u001b[0;34m\u001b[0m\u001b[0;34m\u001b[0m\u001b[0m\n\u001b[1;32m     27\u001b[0m         \u001b[0mf\u001b[0m \u001b[0;34m=\u001b[0m \u001b[0mload_big_file\u001b[0m\u001b[0;34m(\u001b[0m\u001b[0mcheckpoint\u001b[0m\u001b[0;34m)\u001b[0m\u001b[0;34m\u001b[0m\u001b[0;34m\u001b[0m\u001b[0m\n\u001b[0;32m---> 28\u001b[0;31m         \u001b[0mdata\u001b[0m \u001b[0;34m=\u001b[0m \u001b[0mtorch\u001b[0m\u001b[0;34m.\u001b[0m\u001b[0mload\u001b[0m\u001b[0;34m(\u001b[0m\u001b[0mf\u001b[0m\u001b[0;34m,\u001b[0m \u001b[0mmap_location\u001b[0m\u001b[0;34m=\u001b[0m\u001b[0;34m{\u001b[0m\u001b[0;34m'cuda:0'\u001b[0m\u001b[0;34m:\u001b[0m \u001b[0;34m'cpu'\u001b[0m\u001b[0;34m}\u001b[0m\u001b[0;34m)\u001b[0m\u001b[0;34m\u001b[0m\u001b[0;34m\u001b[0m\u001b[0m\n\u001b[0m\u001b[1;32m     29\u001b[0m         \u001b[0mfusedNet\u001b[0m\u001b[0;34m.\u001b[0m\u001b[0mload_state_dict\u001b[0m\u001b[0;34m(\u001b[0m\u001b[0mtorch\u001b[0m\u001b[0;34m.\u001b[0m\u001b[0mload\u001b[0m\u001b[0;34m(\u001b[0m\u001b[0mdata\u001b[0m\u001b[0;34m[\u001b[0m\u001b[0;34m'model_state'\u001b[0m\u001b[0;34m]\u001b[0m\u001b[0;34m)\u001b[0m\u001b[0;34m)\u001b[0m\u001b[0;34m\u001b[0m\u001b[0;34m\u001b[0m\u001b[0m\n\u001b[1;32m     30\u001b[0m         \u001b[0moptimizer\u001b[0m\u001b[0;34m.\u001b[0m\u001b[0mload_state_dict\u001b[0m\u001b[0;34m(\u001b[0m\u001b[0mdata\u001b[0m\u001b[0;34m[\u001b[0m\u001b[0;34m'optimizer_state'\u001b[0m\u001b[0;34m]\u001b[0m\u001b[0;34m)\u001b[0m\u001b[0;34m\u001b[0m\u001b[0;34m\u001b[0m\u001b[0m\n",
      "\u001b[0;32m/home/pritesh/anaconda3/lib/python3.6/site-packages/torch/serialization.py\u001b[0m in \u001b[0;36mload\u001b[0;34m(f, map_location, pickle_module, **pickle_load_args)\u001b[0m\n\u001b[1;32m    385\u001b[0m         \u001b[0mf\u001b[0m \u001b[0;34m=\u001b[0m \u001b[0mf\u001b[0m\u001b[0;34m.\u001b[0m\u001b[0mopen\u001b[0m\u001b[0;34m(\u001b[0m\u001b[0;34m'rb'\u001b[0m\u001b[0;34m)\u001b[0m\u001b[0;34m\u001b[0m\u001b[0;34m\u001b[0m\u001b[0m\n\u001b[1;32m    386\u001b[0m     \u001b[0;32mtry\u001b[0m\u001b[0;34m:\u001b[0m\u001b[0;34m\u001b[0m\u001b[0;34m\u001b[0m\u001b[0m\n\u001b[0;32m--> 387\u001b[0;31m         \u001b[0;32mreturn\u001b[0m \u001b[0m_load\u001b[0m\u001b[0;34m(\u001b[0m\u001b[0mf\u001b[0m\u001b[0;34m,\u001b[0m \u001b[0mmap_location\u001b[0m\u001b[0;34m,\u001b[0m \u001b[0mpickle_module\u001b[0m\u001b[0;34m,\u001b[0m \u001b[0;34m**\u001b[0m\u001b[0mpickle_load_args\u001b[0m\u001b[0;34m)\u001b[0m\u001b[0;34m\u001b[0m\u001b[0;34m\u001b[0m\u001b[0m\n\u001b[0m\u001b[1;32m    388\u001b[0m     \u001b[0;32mfinally\u001b[0m\u001b[0;34m:\u001b[0m\u001b[0;34m\u001b[0m\u001b[0;34m\u001b[0m\u001b[0m\n\u001b[1;32m    389\u001b[0m         \u001b[0;32mif\u001b[0m \u001b[0mnew_fd\u001b[0m\u001b[0;34m:\u001b[0m\u001b[0;34m\u001b[0m\u001b[0;34m\u001b[0m\u001b[0m\n",
      "\u001b[0;32m/home/pritesh/anaconda3/lib/python3.6/site-packages/torch/serialization.py\u001b[0m in \u001b[0;36m_load\u001b[0;34m(f, map_location, pickle_module, **pickle_load_args)\u001b[0m\n\u001b[1;32m    579\u001b[0m     \u001b[0;32mfor\u001b[0m \u001b[0mkey\u001b[0m \u001b[0;32min\u001b[0m \u001b[0mdeserialized_storage_keys\u001b[0m\u001b[0;34m:\u001b[0m\u001b[0;34m\u001b[0m\u001b[0;34m\u001b[0m\u001b[0m\n\u001b[1;32m    580\u001b[0m         \u001b[0;32massert\u001b[0m \u001b[0mkey\u001b[0m \u001b[0;32min\u001b[0m \u001b[0mdeserialized_objects\u001b[0m\u001b[0;34m\u001b[0m\u001b[0;34m\u001b[0m\u001b[0m\n\u001b[0;32m--> 581\u001b[0;31m         \u001b[0mdeserialized_objects\u001b[0m\u001b[0;34m[\u001b[0m\u001b[0mkey\u001b[0m\u001b[0;34m]\u001b[0m\u001b[0;34m.\u001b[0m\u001b[0m_set_from_file\u001b[0m\u001b[0;34m(\u001b[0m\u001b[0mf\u001b[0m\u001b[0;34m,\u001b[0m \u001b[0moffset\u001b[0m\u001b[0;34m,\u001b[0m \u001b[0mf_should_read_directly\u001b[0m\u001b[0;34m)\u001b[0m\u001b[0;34m\u001b[0m\u001b[0;34m\u001b[0m\u001b[0m\n\u001b[0m\u001b[1;32m    582\u001b[0m         \u001b[0moffset\u001b[0m \u001b[0;34m=\u001b[0m \u001b[0;32mNone\u001b[0m\u001b[0;34m\u001b[0m\u001b[0;34m\u001b[0m\u001b[0m\n\u001b[1;32m    583\u001b[0m \u001b[0;34m\u001b[0m\u001b[0m\n",
      "\u001b[0;31mRuntimeError\u001b[0m: storage has wrong size: expected 0 got 1"
     ]
    }
   ],
   "source": [
    "import mmap\n",
    "#load model\n",
    "def load_big_file(f):\n",
    "    with open(f, 'r+b') as f_in:\n",
    "        #bf = io.BytesIO(f_in.read())\n",
    "        # mmap seems to be much more memory efficient\n",
    "        bf = mmap.mmap(f_in.fileno(), 0)\n",
    "        f_in.close()\n",
    "    return bf\n",
    "\n",
    "\n",
    "# if torch.cuda.is_available():\n",
    "#     f = cls.load_big_file(str(model_file))\n",
    "#     state = torch.load(f)\n",
    "# else:\n",
    "#     f = cls.load_big_file(str(model_file))\n",
    "#     state = torch.load(f, map_location={'cuda:0': 'cpu'})\n",
    "\n",
    "def load_model(input_channels, learning_rate, scheduler_list, checkpoint=None):\n",
    "    i3d = InceptionI3d(1, in_channels=input_channels)\n",
    "    fusedNet = FusionNet(i3d)\n",
    "    #i3d = i3d.to(self.device)\n",
    "    optimizer = optim.SGD(fusedNet.parameters(), lr=learning_rate, momentum=0.9, weight_decay=0.0000001)\n",
    "    scheduler = optim.lr_scheduler.MultiStepLR(optimizer, scheduler_list)\n",
    "    if (checkpoint is not None):\n",
    "#         fusedNet.load_state_dict(torch.load(checkpoint, map_location=lambda storage, loc: storage))\n",
    "        f = load_big_file(checkpoint)\n",
    "        data = torch.load(f, map_location={'cuda:0': 'cpu'})\n",
    "        fusedNet.load_state_dict(torch.load(data['model_state']))\n",
    "        optimizer.load_state_dict(data['optimizer_state'])\n",
    "        scheduler.load_state_dict(data['scheduler_state'])\n",
    "    return fusedNet, optimizer, scheduler\n",
    "\n",
    "a,b,c = load_model(3, 0.1, [50, 100, 150, 200], 'model_1.tar')"
   ]
  },
  {
   "cell_type": "markdown",
   "metadata": {},
   "source": [
    "# load model"
   ]
  },
  {
   "cell_type": "code",
   "execution_count": 117,
   "metadata": {
    "collapsed": false
   },
   "outputs": [],
   "source": [
    "sm = InceptionI3d(1, in_channels=3)\n",
    "sm.replace_logits(1024)  #because by mistake i kept 1024 output in last logit\n",
    "for para in sm.parameters():\n",
    "    para.requires_grad = False\n",
    "fusedNet = FusionNet(sm)\n",
    "fusedNet = nn.DataParallel(fusedNet)\n",
    "#i3d = i3d.to(self.device)\n",
    "optimizer = optim.SGD(fusedNet.parameters(), lr=0.01, momentum=0.9, weight_decay=0.0000001)\n",
    "scheduler = optim.lr_scheduler.MultiStepLR(optimizer, [50,100,150,200])\n",
    "\n",
    "if torch.cuda.is_available():\n",
    "    data = torch.load('model_51.tar')\n",
    "else:\n",
    "    data = torch.load('model_51.tar',map_location=lambda storage, loc: storage)\n",
    "# data = torch.load('model_51.tar', map_location='cpu')\n",
    "# sd = fusedNet.state_dict()\n",
    "# ok = []\n",
    "# for name, item in sd.items():\n",
    "#     ok.append(name)\n",
    "# len(ok)\n",
    "fusedNet.load_state_dict(data['model_state'])\n",
    "optimizer.load_state_dict(data['optimizer_state'])\n",
    "scheduler.load_state_dict(data['scheduler_state'])\n",
    "# for d in data:\n",
    "#     print(d)\n"
   ]
  },
  {
   "cell_type": "code",
   "execution_count": null,
   "metadata": {
    "collapsed": false
   },
   "outputs": [],
   "source": [
    "fusedNet.train(True)"
   ]
  },
  {
   "cell_type": "code",
   "execution_count": 20,
   "metadata": {
    "collapsed": false
   },
   "outputs": [
    {
     "data": {
      "text/plain": [
       "[0.0001]"
      ]
     },
     "execution_count": 20,
     "metadata": {},
     "output_type": "execute_result"
    }
   ],
   "source": [
    "# Testing if lr_scheduler is working\n",
    "i3d = InceptionI3d(1, in_channels=3)\n",
    "fusedNet = FusionNet(i3d)\n",
    "optimizer = optim.SGD(fusedNet.parameters(), lr=0.01, momentum=0.9, weight_decay=0.0000001)\n",
    "lr_sched = optim.lr_scheduler.MultiStepLR(optimizer, [50, 100, 150, 200])\n",
    "for i in range(102):\n",
    "    lr_sched.step()\n",
    "lr_sched.get_lr()"
   ]
  },
  {
   "cell_type": "code",
   "execution_count": 2,
   "metadata": {
    "collapsed": false
   },
   "outputs": [
    {
     "name": "stdout",
     "output_type": "stream",
     "text": [
      "model_40pritesj.tar\n"
     ]
    }
   ],
   "source": [
    "d = 40\n",
    "save = \"pritesj\"\n",
    "print(\"model_%d\"  %d+ save + \".tar\")"
   ]
  },
  {
   "cell_type": "code",
   "execution_count": 30,
   "metadata": {
    "collapsed": false
   },
   "outputs": [
    {
     "data": {
      "text/plain": [
       "True"
      ]
     },
     "execution_count": 30,
     "metadata": {},
     "output_type": "execute_result"
    }
   ],
   "source": [
    "1 == 1.0"
   ]
  },
  {
   "cell_type": "code",
   "execution_count": 29,
   "metadata": {
    "collapsed": false
   },
   "outputs": [
    {
     "name": "stdout",
     "output_type": "stream",
     "text": [
      "-------------------------------------------------- \n",
      "\n"
     ]
    }
   ],
   "source": [
    "print(\"-\"*50, \"\\n\")"
   ]
  },
  {
   "cell_type": "markdown",
   "metadata": {},
   "source": [
    "# Read this\n",
    "https://discuss.pytorch.org/t/runtimeerror-expected-4-dimensional-input-for-4-dimensional-weight-6-3-5-5-but-got-3-dimensional-input-of-size-3-256-256-instead/37189/4"
   ]
  }
 ],
 "metadata": {
  "kernelspec": {
   "display_name": "Python 3",
   "language": "python",
   "name": "python3"
  },
  "language_info": {
   "codemirror_mode": {
    "name": "ipython",
    "version": 3
   },
   "file_extension": ".py",
   "mimetype": "text/x-python",
   "name": "python",
   "nbconvert_exporter": "python",
   "pygments_lexer": "ipython3",
   "version": "3.6.8"
  }
 },
 "nbformat": 4,
 "nbformat_minor": 2
}
